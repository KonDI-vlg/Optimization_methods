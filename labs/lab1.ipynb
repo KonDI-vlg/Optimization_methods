{
 "cells": [
  {
   "cell_type": "markdown",
   "metadata": {
    "id": "JJIYYz8BoS07"
   },
   "source": [
    "# <center>Лабораторная работа 1.</center>\n",
    "## <center>Одномерная оптимизация</center>\n",
    "\n",
    "*Автор материала: к.т.н., доцент кафедры Фундаметальной информатики и оптимального управления ВолГУ Михаил Алексеевич Харитонов*\n",
    "\n",
    "**Цель работы:** Приобретение практических навыков поиска экстремумов функций одной переменной на языке Python с использованием Jupyter Notebook.\n",
    "\n",
    "**Постановка задачи:** Найти  минимум (максимум) функции $f(x)$ одной переменной, т.е.\n",
    "$$\n",
    "f(x^*)=\\min\\limits_{x\\in X} f(x), \\quad  (f(x^*)=\\max\\limits_{x\\in X} f(x) ), \\quad X \\subset R.\n",
    "$$\n",
    "\n",
    "**Задание:** Заполните ответ в клетках (где написано \"Ваш код здесь\" или \"Ваш ответ здесь\"), ответьте на вопросы.\n",
    "\n"
   ]
  },
  {
   "cell_type": "markdown",
   "metadata": {
    "id": "mGyy7JKXinPT"
   },
   "source": [
    "\n",
    "#Часть 1 Python"
   ]
  },
  {
   "cell_type": "markdown",
   "metadata": {
    "id": "veDsKNHFKUMv"
   },
   "source": [
    "##Задание 1. Коробка.\n",
    "\n",
    "\n"
   ]
  },
  {
   "cell_type": "markdown",
   "metadata": {
    "id": "KfOXMx4jRDn1"
   },
   "source": [
    "###Задание 1.1 "
   ]
  },
  {
   "cell_type": "markdown",
   "metadata": {
    "id": "AnCOFx1uIUaw"
   },
   "source": [
    "\n",
    "\n",
    "Как из квадратного листа картона шириной 100 см изготовить коробку (без крышки) с квадратным дном наибольшей вместительности?\n"
   ]
  },
  {
   "cell_type": "markdown",
   "metadata": {
    "id": "-STLPCuuKmT8"
   },
   "source": [
    "Ваш ответ здесь. Используя средства LaTeX запишите математическую постановку для данной задачи\n"
   ]
  },
  {
   "cell_type": "markdown",
   "metadata": {
    "id": "7ZbuJ4YMSlkM"
   },
   "source": [
    "###Пример 1.1"
   ]
  },
  {
   "cell_type": "markdown",
   "metadata": {
    "id": "l_V7GEO9SrAf"
   },
   "source": [
    "В распоряжении бригадира имеется группа рабочих в составе 30 человек. Их нужно распределить на день на два объекта. Если на первом объекте работает $x$ человек, то их суточная зарплата составляет \\$$2x^2$. Если на втором объекте работает $y$ человек, то их суточная зарплата составляет \\$$4y^2$. \n",
    "\n",
    "Как нужно распределить на эти объекты рабочих, чтобы выплаты на их суточную зарплату оказались наименьшими? \n",
    "\n",
    "\n",
    "**Решение.**\n",
    "\n",
    "Пусть на первый объект будет направлено $x$ рабочих, суточная зарплата которых составит $g(x)=2x^2$. \n",
    "\n",
    "Тогда на второй объект будет направлено $(30 - x)$ рабочих — суточная заработная плата составит $h(x)=4(30- x)^2$. \n",
    "\n",
    "В день начальник будет должен платить рабочим $f(x)=g(x)+h(x)=2x^2+4(30- x)^2$.\n",
    "\n",
    "Задача оптимизации имеет вид:\n",
    "$$f(x)= 6 x^2  - 240 x + 3600 \\to \\max\\limits_{x\\in [0,30]}$$\n",
    "\n"
   ]
  },
  {
   "cell_type": "markdown",
   "metadata": {
    "id": "oo3KdXbcRPkX"
   },
   "source": [
    "###Пример 1.2"
   ]
  },
  {
   "cell_type": "markdown",
   "metadata": {
    "id": "Tj844YZeiiZM"
   },
   "source": [
    "Пример построения графика функции $f(x)=6 x^2  - 240 x + 3600$ на отрезке $[0,30]$.\n"
   ]
  },
  {
   "cell_type": "markdown",
   "metadata": {
    "id": "d2vXCeiu50BF"
   },
   "source": []
  },
  {
   "cell_type": "code",
   "execution_count": 1,
   "metadata": {
    "colab": {
     "base_uri": "https://localhost:8080/",
     "height": 334
    },
    "executionInfo": {
     "elapsed": 852,
     "status": "ok",
     "timestamp": 1663732847469,
     "user": {
      "displayName": "Mikhail Kharitonov",
      "userId": "05943835759510367677"
     },
     "user_tz": -180
    },
    "id": "ZoPn1imrjHRU",
    "outputId": "24f32357-4d97-47b2-aeaa-31f29ea6b979"
   },
   "outputs": [
    {
     "data": {
      "text/plain": [
       "Text(0.5, 0, 'x')"
      ]
     },
     "execution_count": 1,
     "metadata": {},
     "output_type": "execute_result"
    },
    {
     "data": {
      "image/png": "[encoded data removed]",
      "text/plain": [
       "<Figure size 640x480 with 1 Axes>"
      ]
     },
     "metadata": {},
     "output_type": "display_data"
    }
   ],
   "source": [
    "import matplotlib.pyplot as plt\n",
    "import numpy as np\n",
    "\n",
    "def f (x):\n",
    "  return 6*x**2-240*x+3600\n",
    "\n",
    "#шаг построения\n",
    "lag = 0.01\n",
    "#отрезок построения\n",
    "x = np.arange(0, 30, lag)\n",
    "y = f(x)\n",
    "fig = plt.figure()\n",
    "plt.plot(x, y)\n",
    "plt.title('График функции  $f(x)=6 x^2  - 240 x + 3600$ ')\n",
    "plt.ylabel('f(x)')\n",
    "plt.xlabel('x')"
   ]
  },
  {
   "cell_type": "markdown",
   "metadata": {
    "id": "Ny1INf2WRWcR"
   },
   "source": [
    "###Задание 1.2 "
   ]
  },
  {
   "cell_type": "markdown",
   "metadata": {
    "id": "r13TUulNMlbT"
   },
   "source": [
    "С учетом получившихся ограничений, постройте график функции $V(x)$."
   ]
  },
  {
   "cell_type": "code",
   "execution_count": null,
   "metadata": {
    "id": "tOR9b6HzqGr5"
   },
   "outputs": [],
   "source": [
    "# Ваш код здесь"
   ]
  },
  {
   "cell_type": "markdown",
   "metadata": {
    "id": "93V-eZHRRxL1"
   },
   "source": [
    "###Алгоритм метода равномерного поиска"
   ]
  },
  {
   "cell_type": "markdown",
   "metadata": {
    "id": "4vE08VwERmQG"
   },
   "source": [
    "  **Шаг 1.** Задать начальный интервал неопределенности $[a,b]$, количество вычислений функции, $N$ --- количество вычислений функции.\n",
    "\n",
    " **Шаг 2.**  Вычислить точки $x_i=a+i\\frac{b-a}{N+1}$, $i = \\overline{1,N}$, равноотстоящие друг от друга.\n",
    " \n",
    "  **Шаг 3.**  Вычислить значения функции в $N$ найденных точках: $f(x_i)$, $i = \\overline{1,N}$.\n",
    "\n",
    "**Шаг 4.**  Среди точек $x_i$,  $i = \\overline{1,N}$  найти такую, в которой функция принимает наименьшее значение: $f(x_k) = \\min\\limits_{i = \\overline{1,N}} f(x_i)$.\n",
    "\n",
    "**Шаг 5.** Точка минимума $x^*$ принадлежит интервалу: $x^*\\in[x_{k-1},x_{k+1}]$, на котором, в качестве приближенного решения, может быть выбрана точка  $x^*=x_k$."
   ]
  },
  {
   "cell_type": "markdown",
   "metadata": {
    "id": "5PckQMi2sYTt"
   },
   "source": []
  },
  {
   "cell_type": "markdown",
   "metadata": {
    "id": "79__vDqDRc4x"
   },
   "source": [
    "###Задание 1.3"
   ]
  },
  {
   "cell_type": "markdown",
   "metadata": {
    "id": "blPm5C5x55X4"
   },
   "source": [
    ": Напишите функцию реализующую алгоритм поиска минимима функции методом равномерного поиска.  С помощью функции найдите максимальное значение функции $V(x)$, удовлетворяющее постановке задачи 1.1.\n",
    "\n",
    "\n"
   ]
  },
  {
   "cell_type": "code",
   "execution_count": null,
   "metadata": {
    "id": "tO8I-88_ON2t"
   },
   "outputs": [],
   "source": [
    "# Ваш код здесь"
   ]
  },
  {
   "cell_type": "markdown",
   "metadata": {
    "id": "acLoU7JxBmL2"
   },
   "source": [
    "## Задание 2. Кусочно-линейная функция"
   ]
  },
  {
   "cell_type": "markdown",
   "metadata": {
    "id": "n238FHCbLlHl"
   },
   "source": [
    "###Задание 2.1"
   ]
  },
  {
   "cell_type": "markdown",
   "metadata": {
    "id": "v_B1858rBxz7"
   },
   "source": [
    "Постройте график функции\n",
    "\n",
    "$\n",
    "\\begin{array}{l} f(x)=\n",
    "{\\left\\{\\begin{array}{l}\n",
    "{-8x-7, x \\in (-\\infty; -5)} \\\\\n",
    "{-6x+3, x \\in [-5;-3)} \\\\\n",
    "{-5x+6, x \\in [-3;-2)} \\\\\n",
    "{-2x+11, x \\in [-2;2)} \\\\\n",
    "{\\frac{1}{2}x+6, x \\in [2;8)} \\\\\n",
    "{5x-30, x \\in [8;+ \\infty)}\n",
    "\\end{array}\\right. } \\end{array}\n",
    "$"
   ]
  },
  {
   "cell_type": "code",
   "execution_count": null,
   "metadata": {
    "id": "GXgDSj6iDRxs"
   },
   "outputs": [],
   "source": [
    "#Ваш код здесь"
   ]
  },
  {
   "cell_type": "markdown",
   "metadata": {
    "id": "P8I3PfZVMZub"
   },
   "source": [
    "###Метод деления отрезка пополам"
   ]
  },
  {
   "cell_type": "markdown",
   "metadata": {
    "id": "OqXlhUyBMKmB"
   },
   "source": [
    "**Шаг 1.** Задать начальный интервал неопределенности $L_0=[a,b]$ и требуемую точность $\\varepsilon>0$.\n",
    "\n",
    "**Шаг 2.** Положить $k=0$.\n",
    "\n",
    "**Шаг 3.** Вычислить среднюю точку $x^c_k=\\frac{a_k+b_k}{2}$, $|L_{2k}|=b_k-a_k$, $f(x^c_k)$.\n",
    "\n",
    "**Шаг 4.** Вычислить точки: $y_k=a_k+\\frac{|L_{2k}|}{4}$, $z_k=b_k-\\frac{|L_{2k}|}{4}$, $f(y_k)$, $f(z_k)$.\n",
    "\n",
    "**Шаг 5.** Сравнить значения $f(y_k)$ и $f(x^c_k)$:\n",
    "  \n",
    "*  если $f(y_k)<f(x^c_k)$, исключить интервал $(x^c_k, b_k]$, положив $b_{k+1}=x^c_k$, $a_{k+1}=a_k$. Средней точкой нового интервала становится точка $y_k$ ($x^c_{k+1}=y_k$). На **Шаг 7**.\n",
    "*  если $f(y_k)\\geq f(x^c_k)$, на **Шаг 6**.\n",
    "\n",
    "**Шаг 6.** Сравнить значения $f(z_k)$ и $f(x^c_k)$:\n",
    "\n",
    "*  если $f(z_k)<f(x^c_k)$, исключить интервал $[a_k,x^c_k)$, положив $a_{k+1}=x^c_k$, $b_{k+1}=b_k$. Средней точкой нового интервала становится точка $z_k$ ($x^c_{k+1}=z_k$). На **Шаг 7**.\n",
    "*  если $f(z_k)\\geq f(x^c_k)$, исключить интервалы $[a_k,y_k)$, $(z_k,b_k]$, положив $a_{k+1}=y_k$, $b_{k+1}=z_k$.  Средней точкой нового интервала становится точка $x^c_k$ ($x^c_{k+1}=x^c_k$).\n",
    "\n",
    "\n",
    "**Шаг 7.** Вычислить $|L_{2(k+1)}|=b_{k+1}-a_{k+1}$ и проверить условие окончания:\n",
    "\n",
    "*  если $|L_{2(k+1)}|\\leq \\varepsilon$, процесс поиска завершается.  В качестве приближенного решения можно взять середину последнего интервала $x^*=x^c_{k+1}$.\n",
    "*  если $|L_{2(k+1)}|> \\varepsilon$, то положить $k=k+1$ и на **Шаг 4.**\n"
   ]
  },
  {
   "cell_type": "markdown",
   "metadata": {
    "id": "qoblgpXBL3Kq"
   },
   "source": [
    "###Задание 2.2"
   ]
  },
  {
   "cell_type": "markdown",
   "metadata": {
    "id": "luS8tDM1L94U"
   },
   "source": [
    "Напишите функцию реализующую алгоритм поиска минимима функции методом деления отрезка пополам. С помощью функции найдите максимальное значение функции  $f(x)$ с точностью $10^{-3}$."
   ]
  },
  {
   "cell_type": "code",
   "execution_count": null,
   "metadata": {
    "id": "NUmd-LzpIlNp"
   },
   "outputs": [],
   "source": [
    "# Ваш код здесь"
   ]
  },
  {
   "cell_type": "markdown",
   "metadata": {
    "id": "wnzoy3_j8iTr"
   },
   "source": [
    "###Метод Фибоначчи"
   ]
  },
  {
   "cell_type": "markdown",
   "metadata": {
    "id": "I4BT-APb8opS"
   },
   "source": [
    "   **Шаг 1.** Задать начальный интервал неопределенности $L_0=[a,b]$, допустимую длину конечного интервала $l>0$, константу различимости $\\varepsilon > 0$.\n",
    "\n",
    "   **Шаг 2.** Найти количество $N$ вычислений функции как наименьшее целое число, при котором выполняется условие $F_N\\geq\\frac{|L_0|}{l}$, и числа Фибоначчи $F_1, F_2, \\ldots, F_N$.\n",
    "\n",
    "**Шаг 3.** Положить $k=0$.\n",
    "\n",
    "**Шаг 4.** Вычислить: $y_k=a_k+\\frac{F_{N-2}}{F_N}(b_k-a_k)$, $z_k=a_0+\\frac{F_{N-1}}{F_N}(b_k-a_k)$.\n",
    "**Шаг 5.** Вычислить:  $f(y_k)$, $f(z_k)$.\n",
    "\n",
    "**Шаг 6.** Сравнить значения $f(y_k)$ и $f(z_k)$:\n",
    "\n",
    "  * если $f(y_k)\\leq f(z_k)$,  положить $a_{k+1}=a_k$,  $b_{k+1}=z_k$, $z_{k+1}=y_k$, $y_{k+1}=a_{k+1}+\\frac{F_{N-k-3}}{F_{N-k-1}}(b_{k+1}-a_{k+1})$ перейти на **Шаг.7**.\n",
    "  * если $f(y_k)> f(z_k)$,положить $a_{k+1}=y_k$,  $b_{k+1}=b_k$, $y_{k+1}=z_k$, $z_{k+1}=a_{k+1}+\\frac{F_{N-k-2}}{F_{N-k-1}}(b_{k+1}-a_{k+1})$.\n",
    "\n",
    "**Шаг 7.** Проверить условие окончания, в случае необходимости сделать заключительное $N$-e вычисление функции для получения решения:\n",
    "  * если $k\\neq N-3$, положить $k=k+1$ и на **Шаг. 5**.\n",
    "  * если $k=N-3$, то всегда $y_{N-2}=z_{N-2}=\\frac{a_{N-2}+b_{N-2}}{2}$, т.е. отсутствует точка нового вычисления функции. \n",
    "  Следует положить: $y_{N-1}=y_{N-2}=z_{N-2}$, $z_{N-1}=y_{N-1}+\\varepsilon$. В точках $y_{N-1}$  и $z_{N-1}$ вычисляются значения функции и находятся границы конечного интервала неопределенности:\n",
    "  * если $f(y_N-1)\\leq f(z_N-1)$,  положить $a_{N-1}=a_{N-2}$,  $b_{N-1}=z_{N-1}$.\n",
    "  * если $f(y_k)> f(z_k)$, положить $a_{N-1}=y_{N-1}$,  $b_{N-1}=b_{N-2}$.\n",
    "\n",
    "\n",
    "Процесс поиска завершается и $x^*\\in [a_{N-1},b_{N-1}]$.\tВ качестве приближенного решения можно взять любую точку последнего интервала, например, его середину $x^*=\\frac{b_{N-1}+a_{N-1}}{2}$.\n"
   ]
  },
  {
   "cell_type": "markdown",
   "metadata": {
    "id": "9qzwSCvd6s-z"
   },
   "source": [
    "###Задание 2.2"
   ]
  },
  {
   "cell_type": "markdown",
   "metadata": {
    "id": "0e4pY6wE6tin"
   },
   "source": [
    "Напишите функцию реализующую алгоритм поиска минимима функции методом Фибоначчи. С помощью функции найдите максимальное значение функции  $f(x)$ с точностью $10^{-3}$."
   ]
  },
  {
   "cell_type": "code",
   "execution_count": null,
   "metadata": {
    "id": "dTP72KFh7ytY"
   },
   "outputs": [],
   "source": [
    "# Ваш код здесь"
   ]
  },
  {
   "cell_type": "markdown",
   "metadata": {
    "id": "aeUoFRIyvBPb"
   },
   "source": [
    "##Задание 3 Оптимизация средствами python"
   ]
  },
  {
   "cell_type": "markdown",
   "metadata": {
    "id": "7FFjBkRovXzN"
   },
   "source": [
    "### 3.1 Функция `minimize_scalar`\n",
    "\n",
    "\n"
   ]
  },
  {
   "cell_type": "markdown",
   "metadata": {
    "id": "Dva53E-XvFn2"
   },
   "source": [
    "В библиотеке SciPy (Release 1.7.1 August 01, 2021) для решения задач одномерной оптимизации используется функция `minimize_scalar`.\n",
    "\n",
    "Синтаксис обращения к функции `minimize_scalar` зависит от количества входных и выходных аргументов функции:\n",
    "```\n",
    "scipy.optimize.minimize_scalar(fun, bounds=None, args=(), method='brent', tol=None,\n",
    "options=None)\n",
    "```\n",
    "Параметры\n",
    "\n",
    "*   **fun** - целевая функция одной переменной.\n",
    "\n",
    "*   **bounds** - границы оптимизации, содержит два  элемента, которые соответствуют границам оптимизации. Данный параметр является обязательным для метода `bounded`.\n",
    "*    **args** - дополнительные аргументы, которые нужно передать в целевую функцию.\n",
    "*    **method** - алгоритм, используемый для решения задачи. Поддерживаются следующие алгоритмы:  `Brent`(Метод Брента), `Bounded`, `Golden` (метод золотого сечения), custom - a callable object (added in version 0.14.0).\n",
    "*   **tol** - критерий останова.\n",
    "* **options** - словарь вариантов решения.\n",
    "    * **maxiter** - максимальное количество итераций для выполнения алгоритма.\n",
    "    * **disp** - булева переменная, которая указывает на сходимость алгоритма.\n",
    "\n",
    "Возвращаемые значения\n",
    "*  **res** - вывод результата оптимизации  в виде объекта\n",
    "    * **x** - точка минимума.\n",
    "    * **fun** - значение целевой функции в точке минимума.\n",
    "    * **success** - логический флаг, указывающий, успешно ли завершился оптимизатор.\n",
    "    * **message** - сообщение описывающее причину завершения. \n",
    "\n",
    "\n"
   ]
  },
  {
   "cell_type": "markdown",
   "metadata": {
    "id": "octBI4Ae2xUf"
   },
   "source": [
    "### Пример (minimize_scalar)"
   ]
  },
  {
   "cell_type": "markdown",
   "metadata": {
    "id": "CnUMGQfF23fs"
   },
   "source": [
    "С помощью `minimize_scalar` найти решение следующей задачи одномерной оптимизации\n",
    "$f(x)= 6 x^2  - 240 x + 3600 \\to \\max\\limits_{x\\in [0,30]}$"
   ]
  },
  {
   "cell_type": "code",
   "execution_count": 15,
   "metadata": {
    "colab": {
     "base_uri": "https://localhost:8080/"
    },
    "executionInfo": {
     "elapsed": 6,
     "status": "error",
     "timestamp": 1682410716248,
     "user": {
      "displayName": "Mikhail Kharitonov",
      "userId": "05943835759510367677"
     },
     "user_tz": -180
    },
    "id": "lNkpl2tw3K4e",
    "outputId": "eacdad1d-b32d-4d37-8170-e65c5bf89525"
   },
   "outputs": [
    {
     "name": "stdout",
     "output_type": "stream",
     "text": [
      " message: Solution found.\n",
      " success: True\n",
      "  status: 0\n",
      "     fun: 1200.0\n",
      "       x: 20.0\n",
      "     nit: 6\n",
      "    nfev: 6\n",
      "20.0\n"
     ]
    }
   ],
   "source": [
    "import numpy as np\n",
    "from scipy.optimize import minimize_scalar\n",
    "def f (x):\n",
    "    return 6*x**2-240*x+3600\n",
    "\n",
    "result = minimize_scalar(f, bounds=(0, 30), method='bounded')\n",
    "print(result)\n",
    "print(result.x)"
   ]
  },
  {
   "cell_type": "markdown",
   "metadata": {
    "id": "QArhi6ne8Guf"
   },
   "source": [
    "### Задание 3.1"
   ]
  },
  {
   "cell_type": "markdown",
   "metadata": {
    "id": "pshBNiF08QGA"
   },
   "source": [
    "С помощью `minimize_scalar`    найдите максимальное значение функции  $f(x)$ с точностью $10^{-3}$."
   ]
  },
  {
   "cell_type": "code",
   "execution_count": null,
   "metadata": {
    "id": "wquC7ipL8Rqq"
   },
   "outputs": [],
   "source": [
    "# Ваш код здесь"
   ]
  },
  {
   "cell_type": "markdown",
   "metadata": {
    "id": "_PDb1Bazi2GE"
   },
   "source": [
    "\n",
    "\n",
    "#Часть 2 Решение задач"
   ]
  },
  {
   "cell_type": "markdown",
   "metadata": {
    "id": "nLsb9gatjE98"
   },
   "source": [
    "1. Для функции $y(x)=kx+b$ заданной при  $x\\in [-\\frac{\\pi}{2}; \\frac{3\\pi}{2}]$ определить при каких значениях параметра $k$ функция достигает максимального значения при $x=-\\frac{\\pi}{2}, 0 , \\frac{3\\pi}{2}$.\n",
    "2. Найти наибольшее значение функции $y(x)=3 \\sqrt{3} \\sin x - 6 $ на отрезке  $[-\\frac{\\pi}{4}; \\frac{3\\pi}{4}]$\n",
    "3. Найти экстремум функции $f(x)=|x|e^{-|x|}$ при $x \\in [-2;2]$.\n",
    "4. Найти минимум функции $f(x)=2x^2-12x+1$ методом деления интервала пополам, решение изобразить графически.\n",
    "5. Приведите примеры функций, которые удовлетворяют следующим условиям:\n",
    "       a) локальные минимумы и максимумы достигаются в бесконечном числе точек;\n",
    "       б) функция ограничена, абсолютный максимум достигается, минимум - нет;\n",
    "       в) функция ограничена, но абсолютные максимум и минимум не достигаются.\n",
    "6. Имеется веревка длиной $l$ метров. Требуется оградить этой веревкой прямоугольный участок максимальной площади. Найдите стороны этого участка и площадь.\n",
    "7. Среди конусов, описанных около шара радиуса $r$, найти тот, объем которого является наименьшим.\n",
    "8. В 1-е классы поступает 70 человек: 30 мальчиков и 40 девочек. Их распределили по двум классам: в одном должно получиться 40 человек, а в другом - 30. После распределения посчитали процент девочек в каждом классе и полученные числа сложили. \n",
    "       а)  Каким должно быть распределение по классам, чтобы полученная сумма была наибольшей?\n",
    "       б)  Каким должно быть распределение по классам, чтобы полученная сумма была наименьшей?\n",
    "9.  Определите значение параметра $a$ в уравнении $x^2-ax+a-1=0$, при котором значение $x^2_1+x^2_2$ минимально ($x_1, x_2$ - корни уравнения, $а$ - действительное число) ?\n",
    "10. При каких значениях $x$ функция $f(x)=\\sin x-\\cos^2 x -1$ принимает наибольшее и наименьшее значение?\n",
    "11. Найдите наибольшее и наименьшее значения выражения $\\log_2^4 x+12\\log_2^2 x\\cdot \\log_2 \\frac{2}{8}$, полагая, что $x$ изменяется от 1 до 64.\n",
    "12. Найти минимум функции $f(x)=x^2+5x+11$ методом равномерного поиска, решение изобразить графически.\n",
    "       "
   ]
  },
  {
   "cell_type": "markdown",
   "metadata": {
    "id": "oVRIfL8ti8zp"
   },
   "source": [
    "#Часть 3 Теоретический минимум"
   ]
  },
  {
   "cell_type": "markdown",
   "metadata": {
    "id": "6SZKoaXi7kVy"
   },
   "source": [
    "## Теоретический минимум по методам оптимизации"
   ]
  },
  {
   "cell_type": "markdown",
   "metadata": {
    "id": "JtLvu8Ma4KGS"
   },
   "source": [
    "\n",
    "\n",
    "1.   Что такое необходимые условия существования экстремума первого порядка?\n",
    "2.   Опишите причины не эффективности применения необходимых и достаточных условий безусловного экстремума для решения большинства практических задач.\n",
    "3. Какой вид имеет общее правило построения последовательности $\\{x^k\\}$? (все переменные пояснить)\n",
    "4. Каким свойством должны обладать точки последовательности $\\{x^k\\}$?\n",
    "5. Какому условию должно удовлетворять направление спуска $d_k$ при решении задачи безусловной минимизации?\n",
    "6. Какая последовательность  $x^{k}$ называется минимизирующей?\n",
    "7. Какая последовательность  $x^{k}$ называется сходящейся к точке минимума $x^*$?\n",
    "8. В чем заключается задача оптимизации?\n",
    "9. Какие условия называются необходимыми и достаточными условиями безусловного экстремума функции?\n",
    "10. Что такое точка глобального минимума функции?\n",
    "11. Что такое точка локального минимума функции?\n",
    "12. Какая функция называется выпуклой?\n",
    "13. Чем характеризуется порядок методов поиска безусловного экстремума?\n",
    "14. Какая функция называется унимодальной?\n",
    "\n",
    "\n"
   ]
  },
  {
   "cell_type": "markdown",
   "metadata": {
    "id": "u_P-7T7h71uc"
   },
   "source": [
    "## Теоретический минимум python"
   ]
  },
  {
   "cell_type": "markdown",
   "metadata": {
    "id": "YA21w4QC78Eo"
   },
   "source": [
    "1. Для каких целей используется функция np.arange? \n",
    "2. Что будет выведено на экран при выполнении `print (np.arange(0, 10, 1)` ?\n",
    "3. Какие параметры для функции `minimize_scalar` являются обязательными?\n",
    "4. Опишите вызов функции `minimize_scalar` для вывода на экран только значения $f(x^*)$?\n",
    "5. Опишите вызов функции `minimize_scalar` для вывода на экран только значения $x^*$?\n",
    "6. Для чего используется параметр `bounds` в функции `minimize_scalar`?\n",
    "7. Какие методы оптимизации можно использовать  функции `minimize_scalar`?\n",
    "8. Можно ли с помощью функции `minimize_scalar` найти точку максимума непрерывной функции? Если можно, то как?\n",
    "\n"
   ]
  }
 ],
 "metadata": {
  "colab": {
   "authorship_tag": "ABX9TyOP+jDG100mwo7NWAgiHcKs",
   "provenance": []
  },
  "kernelspec": {
   "display_name": "Python 3 (ipykernel)",
   "language": "python",
   "name": "python3"
  },
  "language_info": {
   "codemirror_mode": {
    "name": "ipython",
    "version": 3
   },
   "file_extension": ".py",
   "mimetype": "text/x-python",
   "name": "python",
   "nbconvert_exporter": "python",
   "pygments_lexer": "ipython3",
   "version": "3.9.16"
  }
 },
 "nbformat": 4,
 "nbformat_minor": 1
}
