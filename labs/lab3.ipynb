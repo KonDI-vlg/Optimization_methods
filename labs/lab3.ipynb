{
 "cells": [
  {
   "cell_type": "markdown",
   "metadata": {
    "id": "Nd_Z8XAVfA61"
   },
   "source": [
    "# <center>Лабораторная работа 3.</center>\n",
    "## <center>Модели линейного программирования</center>\n",
    "\n",
    "*Автор материала: к.т.н., доцент кафедры Фундаметальной информатики и оптимального управления ВолГУ Михаил Алексеевич Харитонов*\n",
    "\n",
    "**Цель работы:** приобретение практических навыков решения задач линейного программирования c использованием языка Python (библиотеки pulp, cvxopt и SciPy) и Jupyter Notebook.\n",
    "\n",
    "**Задание:** Заполните ответ в клетках (где написано \"Ваш код здесь\" или \"Ваш ответ здесь\"), ответьте на вопросы.\n",
    "\n"
   ]
  },
  {
   "cell_type": "code",
   "execution_count": null,
   "metadata": {
    "id": "7OBkwmIASfwc"
   },
   "outputs": [],
   "source": []
  },
  {
   "cell_type": "markdown",
   "metadata": {
    "id": "I511shCF9TJ0"
   },
   "source": [
    "# Часть 1 Python"
   ]
  },
  {
   "cell_type": "markdown",
   "metadata": {
    "id": "xqngvoYRI9Hz"
   },
   "source": [
    "### Пример 1.1"
   ]
  },
  {
   "cell_type": "markdown",
   "metadata": {
    "id": "y0oo18QuA9kf"
   },
   "source": [
    "\n",
    "На мебельной фабрике из листов фанеры вырезают заготовки трех видов. Их должно быть, соответственно, не менее 24, 31 и 18. Существует два способа раскроя листа: 2+5+2 (отходы 12 см.) и 6+4+3 (отходы 16 см.). Сколько листов и как нужно раскроить, чтобы минимизировать отходы?\n",
    "\n",
    "**Решение.**\n",
    "\n",
    "Пусть\n",
    "\n",
    "$x_{1} $ - количество листов, раскроенных первым способом;\n",
    "\n",
    "$x_{2} $- количество листов, раскроенных вторым способом;\n",
    "\n",
    "При первом способе раскроя получают 2 заготовки первого вида, 5 заготовок второго вида и 2 заготовки третьего вида. При втором способе раскроя получают 6 заготовок первого вида, 4 заготовки второго вида и 3 заготовки третьего вида.  Так как их должно быть не менее 24, 31 и 18 соответственно, имеем:\n",
    "\n",
    "$$2x_{1} +6x_{2} \\ge 24, \\,\\,5x_{1} +4x_{2} \\ge 31,\\,\\, 2x_{1} +3x_{2} \\ge 18.$$\n",
    "\n",
    "\n",
    "Дополним ограничения условием неотрицательности для листов, необходимых для раскроя:\n",
    "\n",
    "$$x_{1} \\ge 0, \\,\\,x_{2} \\ge 0.$$\n",
    "\n",
    "Описанные выше ограничения представляют собой множество $G$ -- область допустимых решений.\n",
    "$$G=\\{2x_{1} +6x_{2} \\ge 24, \\,\\,5x_{1} +4x_{2} \\ge 31,\\,\\, 2x_{1} +3x_{2} \\ge 18, \\,\\, x_{1} \\ge 0, \\,\\,x_{2} \\ge 0\\}.$$\n",
    "\n",
    "Составим целевую функцию. Так как нам необходимо минимизировать отходы, причем при первом способе раскроя отходы составляют 12 см. с листа, а при втором -- 16 см. с листа, получаем:\n",
    "\n",
    "\n",
    "\\begin{equation*}\n",
    "f(x_{1} ,x_{2} )=12x_{1} +16x_{2} \\to \\mathop{\\min }\\limits_{G}.\n",
    "\\end{equation*}\n"
   ]
  },
  {
   "cell_type": "code",
   "execution_count": null,
   "metadata": {
    "colab": {
     "base_uri": "https://localhost:8080/",
     "height": 291
    },
    "executionInfo": {
     "elapsed": 708,
     "status": "ok",
     "timestamp": 1643030416469,
     "user": {
      "displayName": "Mikhail Kharitonov",
      "photoUrl": "https://lh3.googleusercontent.com/a-/AOh14GiPTCRIAruz4bsR7F37Ul1gKCXXXkqj4SptC8p-Fg=s64",
      "userId": "05943835759510367677"
     },
     "user_tz": -180
    },
    "id": "AX3Wt9f-ptvh",
    "outputId": "dab0eb66-414b-4ddd-fb47-a3102765d6df"
   },
   "outputs": [
    {
     "data": {
      "text/plain": [
       "Text(0, 0.5, '$x_2$')"
      ]
     },
     "execution_count": 2,
     "metadata": {},
     "output_type": "execute_result"
    },
    {
     "data": {
      "image/png": "[encoded data removed]",
      "text/plain": [
       "<Figure size 432x288 with 1 Axes>"
      ]
     },
     "metadata": {
      "needs_background": "light"
     },
     "output_type": "display_data"
    }
   ],
   "source": [
    "import matplotlib.pyplot as plt\n",
    "import numpy as np\n",
    "d = np.linspace(-2,16,300)\n",
    "x,y = np.meshgrid(d,d)\n",
    "plt.imshow( ((6*y>=24-2*x) & (4*y>=31-5*x) & (3*y>=18-2*x) & (x>=0)&(y>=0)).astype(int) , \n",
    "                extent=(x.min(),x.max(),y.min(),y.max()),origin=\"lower\", cmap=\"Greys\", alpha = 0.3);\n",
    "\n",
    "\n",
    "# plot the lines defining the constraints\n",
    "x = np.linspace(0, 16, 2000)\n",
    "# y >= 2\n",
    "y1 = 24/6.0-2*x/6.0\n",
    "# 2y <= 25 - x\n",
    "y2 =31/4.0-5*x/4.0\n",
    "# 4y >= 2x - 8 \n",
    "y3 = 18/3.0-2*x/3.0\n",
    "for c in range(0,115,15):\n",
    "  y4 = (c-12*x)/16.0\n",
    " # plt.plot(x, y4, label=r'$12x_{1} +16x_{2} = c$')\n",
    "\n",
    "\n",
    "# Make plot\n",
    "plt.plot(x, y1, label=r'$2x_{1} +6x_{2} \\geq 24$')\n",
    "plt.plot(x, y2, label=r'$5x_{1} +4x_{2} \\geq 31$')\n",
    "plt.plot(x, y3, label=r'$2x_{1} +3x_{2} \\geq 18$')\n",
    "plt.xlim(0,13)\n",
    "plt.ylim(0,8)\n",
    "plt.legend(bbox_to_anchor=(1.05, 1), loc=2, borderaxespad=0.)\n",
    "plt.xlabel(r'$x_1$')\n",
    "plt.ylabel(r'$x_2$')"
   ]
  },
  {
   "cell_type": "markdown",
   "metadata": {
    "id": "fdSyrdRbItsy"
   },
   "source": [
    "## Библиотека SciPy (функция linprog)"
   ]
  },
  {
   "cell_type": "markdown",
   "metadata": {
    "id": "IZqmhgPysno0"
   },
   "source": [
    "\n",
    "В библиотеке SciPy (Release 1.7.1 August 01, 2021) для решения задач линейного программирования используется функция `linprog`, которая позволяет решать задачи  вида:\n",
    "$$\n",
    "  c^T x\\to \\min, A \\cdot x\\leq b, A_{eq} \\cdot x= b_{eq}, l_b\\leq x \\leq u_b,\n",
    "$$\n",
    "где \n",
    " $c$ --- вектор-столбец коэффициентов целевой функции (размерность $n$);\n",
    "\n",
    " $A$  --- матрица линейных ограничений в форме неравенств (размерность $k \\times n$);\n",
    "\n",
    " $b$ --- вектор-столбец правых частей ограничений в форме неравенств  (размерность $k$);\n",
    "\n",
    " $A_{eq}$  - матрица линейных ограничений в форме равенств (размерность $m-k \\times n$);\n",
    "\n",
    " $b_{eq}$ - вектор-столбец правых частей ограничений в форме равенств  (размерность $m-k$);\n",
    "\n",
    "  $l_b$ - вектор-столбец --- нижняя оценка $x$ (размерность $n$);\n",
    "\n",
    " $u_b$ - вектор-столбец --- верхняя оценка $x$ (размерность $n$);\n",
    "\n",
    "\n",
    "\n",
    "Синтаксис обращения к функции `linprog` зависит от количества входных и выходных аргументов функции:\n",
    "```\n",
    "scipy.optimize.linprog(c, A_ub=None, b_ub=None, A_eq=None, b_eq=None, bounds=None, callback=None, options=None, x0=None)\n",
    "```\n",
    "*   `bounds` - последовательность пар (мин., макс.) для каждого элемента вектора $x$, определяющая минимальное и максимальное значения данной переменной .  По умолчанию границы равны (0, None).\n",
    "\n",
    "\n",
    "*   `callback` - содержит следующие параметры:\n",
    "\n",
    "   *  x [1-D array] --- вектор оптимального решения.\n",
    "\n",
    "   *     fun [float]  --- оптимальное значение целевой функции.\n",
    "\n",
    "    *    success [bool] --- истинно, когда алгоритм завершился успешно.\n",
    "\n",
    "    *   status [int] --- целое число, представляющее статус алгоритма.\n",
    "\n",
    "      0.   Оптимизация идет штатно.\n",
    "      1.   Достигнут предел итераций.\n",
    "      2.   Задача неразрешима.\n",
    "      3.   Задача неорганиченна.\n",
    "      4.   Возникли вычислительные трудности.\n",
    "\n",
    "   *   nit [int] --- номер текущей итерации.\n",
    "   *   message [str] --- строковый дескриптор статуса алгоритма.\n",
    "\n",
    "\n",
    "\n",
    "\n"
   ]
  },
  {
   "cell_type": "markdown",
   "metadata": {
    "id": "P1OLNQqrW1Yt"
   },
   "source": [
    "### Пример (LP SciPy)"
   ]
  },
  {
   "cell_type": "markdown",
   "metadata": {
    "id": "-gRwLno4vxRl"
   },
   "source": [
    "\n",
    "\n",
    "С помощью `linprog` найти решение следующей задачи линейного программирования\n",
    "\n",
    "\\begin{eqnarray*}\n",
    "f(x)=29x_1+45x_2\\to \\max\\limits_{G},\\\\\n",
    " G=\\left\\{x_1-x_2-3x_3\\leq 5,\\quad\n",
    " 2x_1-3x_2-7x_3+3x_4\\geq 10,\\\\ \n",
    " 2x_1+8x_2+x_3=60,\\quad\n",
    " 4x_1+4x_2+x_4=60,\\\\\\\n",
    " 0 \\leq x_1 \\leq  6,\\quad\n",
    " x_3 \\geq -3 \\right\\}\n",
    "\\end{eqnarray*}\n",
    "\n",
    "Так как данная задача на поиск максимума линейной функции, а `linprog` используется для поиска минимима, поэтому умножим коэфициенты целевой функции на -1.\n",
    "\n",
    "Целевая функция будет иметь вид $$\\hat{f}(x)=-29\\cdot x_1-45\\cdot  x_2+0\\cdot  x_3+0\\cdot  x_4\\to \\min, $$\n",
    "а вектор $c=(-29,-45, 0, 0)^T$.\n",
    " \n",
    " Ограничения в форме неравенств должны быть со знаком $\\leq$, поэтому домножим второе ограничение на -1.\n",
    "\n",
    "Т.о. ограничения в форме неравенств будут иметь вид:\n",
    "\\begin{eqnarray*}\n",
    " x_1-x_2-3x_3\\leq 5,\\\\\n",
    " -2x_1+3x_2+7x_3-3x_4\\leq -10,\\\\ \n",
    "\\end{eqnarray*}\n",
    "Данные ограничения можно записать в матричной форме\n",
    "$$A\\cdot x \\leq b,$$\n",
    "где\n",
    "$A =\n",
    "\\begin{pmatrix}\n",
    "1 & -1 & -3 & 0\\\\\n",
    "-2 & 3 & 7 & -3\n",
    "\\end{pmatrix}$, $b=\\begin{pmatrix}\n",
    "5\\\\\n",
    "-10\n",
    "\\end{pmatrix}$.\n",
    "\n",
    "Запишем ограничения в форме равенств\n",
    "\\begin{eqnarray*}\n",
    "  2x_1+8x_2+x_3=60,\\\\\n",
    " 4x_1+4x_2+x_4=60.\\\\\n",
    "\\end{eqnarray*}\n",
    "Данные ограничения можно записать в матричной форме\n",
    "$$A_{eq}\\cdot x \\leq b_{eq},$$\n",
    "где\n",
    "$A_{eq} =\n",
    "\\begin{pmatrix}\n",
    "2 & 8 & 1 & 0\\\\\n",
    "4 & 4 & 0 & 1\n",
    "\\end{pmatrix}$, $b_{eq}=\\begin{pmatrix}\n",
    "60\\\\\n",
    "60\n",
    "\\end{pmatrix}$.\n",
    "\n",
    "Давайте рассмотрим отдельные ограничения неравенства на отдельные переменные, которые можно использовать с помощью аргумента `bounds`. В документации `linprog` значение по умолчанию для границ равно (0, None), что означает, что нижняя граница для каждого решения переменная равна 0, а верхняя граница каждой переменной решения --- бесконечность.\n"
   ]
  },
  {
   "cell_type": "code",
   "execution_count": 2,
   "metadata": {},
   "outputs": [
    {
     "name": "stdout",
     "output_type": "stream",
     "text": [
      "Requirement already satisfied: numpy in /home/mikhail/PycharmProjects/absolute_optimization/my_project_env/lib/python3.9/site-packages (1.26.0)\n",
      "Collecting scipy\n",
      "  Downloading scipy-1.11.3-cp39-cp39-manylinux_2_17_x86_64.manylinux2014_x86_64.whl (36.6 MB)\n",
      "\u001b[2K     \u001b[38;2;114;156;31m━━━━━━━━━━━━━━━━━━━━━━━━━━━━━━━━━━━━━━━━\u001b[0m \u001b[32m36.6/36.6 MB\u001b[0m \u001b[31m8.0 MB/s\u001b[0m eta \u001b[36m0:00:00\u001b[0m0m eta \u001b[36m0:00:01\u001b[0m[36m0:00:01\u001b[0m\n",
      "\u001b[?25hInstalling collected packages: scipy\n",
      "Successfully installed scipy-1.11.3\n",
      "\n",
      "\u001b[1m[\u001b[0m\u001b[34;49mnotice\u001b[0m\u001b[1;39;49m]\u001b[0m\u001b[39;49m A new release of pip is available: \u001b[0m\u001b[31;49m23.1.2\u001b[0m\u001b[39;49m -> \u001b[0m\u001b[32;49m23.3.1\u001b[0m\n",
      "\u001b[1m[\u001b[0m\u001b[34;49mnotice\u001b[0m\u001b[1;39;49m]\u001b[0m\u001b[39;49m To update, run: \u001b[0m\u001b[32;49mpython -m pip install --upgrade pip\u001b[0m\n",
      "Note: you may need to restart the kernel to use updated packages.\n"
     ]
    }
   ],
   "source": [
    "pip install numpy scipy"
   ]
  },
  {
   "cell_type": "code",
   "execution_count": 4,
   "metadata": {
    "id": "UKmemDnMpsQa"
   },
   "outputs": [
    {
     "name": "stdout",
     "output_type": "stream",
     "text": [
      "        message: Optimization terminated successfully. (HiGHS Status 7: Optimal)\n",
      "        success: True\n",
      "         status: 0\n",
      "            fun: -453.7826086956522\n",
      "              x: [ 6.000e+00  6.217e+00 -1.739e+00  1.113e+01]\n",
      "            nit: 3\n",
      "          lower:  residual: [ 6.000e+00  6.217e+00  1.261e+00  1.113e+01]\n",
      "                 marginals: [ 0.000e+00  0.000e+00  0.000e+00  0.000e+00]\n",
      "          upper:  residual: [ 0.000e+00        inf        inf        inf]\n",
      "                 marginals: [-1.530e+01  0.000e+00  0.000e+00  0.000e+00]\n",
      "          eqlin:  residual: [ 0.000e+00  0.000e+00]\n",
      "                 marginals: [-5.870e+00 -0.000e+00]\n",
      "        ineqlin:  residual: [ 0.000e+00  2.891e+01]\n",
      "                 marginals: [-1.957e+00 -0.000e+00]\n",
      " mip_node_count: 0\n",
      " mip_dual_bound: 0.0\n",
      "        mip_gap: 0.0\n"
     ]
    }
   ],
   "source": [
    "import numpy as np\n",
    "from scipy.optimize import linprog\n",
    "c = np.array([-29.0, -45.0, 0.0, 0.0])\n",
    "A = np.array([[1.0, -1.0, -3.0, 0.0],\n",
    "[-2.0, 3.0, 7.0, -3.0]])\n",
    "b = np.array([5.0, -10.0])\n",
    "A_eq = np.array([[2.0, 8.0, 1.0, 0.0],\n",
    "[4.0, 4.0, 0.0, 1.0]])\n",
    "b_eq = np.array([60.0, 60.0])\n",
    "x1_bounds =  (0, 6.0)\n",
    "x2_bounds = (0, None)\n",
    "x3_bounds =  (-3.0, None)\n",
    "x4_bounds = (0, None)\n",
    "bounds = [x1_bounds, x2_bounds, x3_bounds, x4_bounds]\n",
    "result = linprog(c, A_ub=A, b_ub=b, A_eq=A_eq, b_eq=b_eq,bounds=bounds)\n",
    "print(result)"
   ]
  },
  {
   "cell_type": "markdown",
   "metadata": {
    "id": "vXL1LvRmDCDX"
   },
   "source": [
    "Получили, что минимальное значение целевой функции $$\\hat{f}^*=\\hat{f}(x^*)=-453.782, $$ $$x^*=(6, 6.2173913, -1.73913043, 11.13043478)^T.$$\n",
    "\n",
    "Так как $\\hat{f}=-f$, то  $f^*=453.782$."
   ]
  },
  {
   "cell_type": "markdown",
   "metadata": {
    "id": "zdDJEOwbdzYq"
   },
   "source": [
    "## Задание 2"
   ]
  },
  {
   "cell_type": "markdown",
   "metadata": {
    "id": "K918WmWtd5Lj"
   },
   "source": [
    "С помощью `linprog` найти решение следующей задачи линейного программирования\n",
    "\n",
    "\\begin{eqnarray*}\n",
    "f(x)=-\\frac{3}{4}x_1+20x_2-\\frac{1}{2}x_3+6x_4\\to \\max\\limits_{G},\\\\\n",
    "G=\\left\\{\\frac{1}{4} x_1-8 x_2-x_3+9x_4+x_5=0,\\\\\n",
    "\\frac{1}{2} x_1-12 x_2-\\frac{1}{2}x_3+3x_4+x_6= 0, \\\\\n",
    "x_3+3x_4+x_7= 0\\right\\}\n",
    "\\end{eqnarray*}"
   ]
  },
  {
   "cell_type": "code",
   "execution_count": null,
   "metadata": {
    "id": "kh4DkUb8gFLT"
   },
   "outputs": [],
   "source": [
    "#Ваш код здесь"
   ]
  },
  {
   "cell_type": "markdown",
   "metadata": {},
   "source": [
    "# OR-Tools (Google's Operations Research tools)"
   ]
  },
  {
   "cell_type": "markdown",
   "metadata": {},
   "source": [
    "Основные шаги в решении задачи линейного программирования с использованием обертки OR-Tools."
   ]
  },
  {
   "cell_type": "markdown",
   "metadata": {},
   "source": [
    "\n",
    "0. Установка библиотек.\n",
    "\n",
    "```\n",
    "pip install ortools\n",
    "```\n",
    "\n",
    "1. Импорт необходимых библиотек.\n",
    "\n",
    "```\n",
    "from ortools.linear_solver import pywraplp\n",
    "```\n",
    "\n",
    "2. Объявление солвера. \n",
    "\n",
    "pywraplp — это оболочка Python для базового решателя C++. \n",
    "Аргумент solver_id указывает, что для задачи линейного программирования будет использован солвер GLOP .\n",
    "\n",
    "```\n",
    "solver_id = \"GLOP\"\n",
    "solver = pywraplp.Solver.CreateSolver(solver_id)\n",
    "\n",
    "```\n",
    "\n",
    "3. Создание переменных.\n",
    "\n",
    "Если нужно создать одну перменную $x$:\n",
    "\n",
    "```\n",
    "x = solver.type_variable (min_value, max_value, name_variable)\n",
    "```\n",
    "где\n",
    "\n",
    "    type_variable - тип переменной (IntVar - целочисленный, NumVar - вещественный, BoolVar - булевы),\n",
    "    min_value - минимальное возможное значение переменной,\n",
    "    max_value - максимальное возможное значение переменной,\n",
    "    name_variable - имя переменной.\n",
    "\n",
    "\n",
    "Если нужно создать вектор переменных ( многомерные вектора создаются с использование сложенных циклов)\n",
    "```\n",
    "x_string = ['x'+str(i) for i in range(1, n+1)]\n",
    "x = [solution.NumVar(0, solution.infinity(), i) for i in x_string]\n",
    "```\n",
    "Например,\n",
    "```\n",
    "x_3 = solver.NumVar(-3, solver.infinity(), \"x3\")\n",
    "x_4 = solver.NumVar(- solver.infinity(), solver.infinity(), \"x4\")\n",
    "```\n",
    "\n",
    "4. Создание ограничений.\n",
    "\n",
    "Ограничения задачи можно добавлять по одному\n",
    "\n",
    "```\n",
    "solver.Add(x_1 - x_2 - 3 * x_3 <= 5)\n",
    "\n",
    "solver.Add(4 * x_1 + 4 * x_2 + x_4 == 60)\n",
    "```\n",
    "или сразу все, если задача записана в матричном виде\n",
    "```\n",
    "for r in range(len(b_eq)):\n",
    "    solver.Add(sum(a_eq[r][u] * x[u] for u in range(len(x))) == b_eq[r])\n",
    "\n",
    "for r in range(len(b)):\n",
    "    solver.Add(sum(a[r][u] * x[u] for u in range(len(x))) <= b[r])\n",
    "```\n",
    "\n",
    "5. Создание целевой функции.\n",
    "Если задача на максимум - solver.Maximize(), если на минимум - solver.Minimize.\n",
    "\n",
    "```\n",
    "solver.Maximize(29 * x_1 + 45 * x_2)\n",
    "```\n",
    "или в матричном виде\n",
    "```\n",
    "solver.Maximize(sum(c[i] * x[i] for i in range(len(x))))      \n",
    "```\n",
    "\n",
    "6. Вызов солвера.\n",
    "\n",
    "```\n",
    "status = solver.Solve()\n",
    "```\n",
    "\n",
    "7. Отображение результаты.\n",
    "\n",
    "Если статус солвера сопадает с оптимальным, то  решение найдено. Можно вывести значение целевой функции и переменных.\n",
    "Иначе, задача не имеет решения.\n",
    "\n",
    "```\n",
    "if status == pywraplp.Solver.OPTIMAL:\n",
    "    print(\"Objective value =\", solver.Objective().Value())\n",
    "    print(\"x_1 =\", x_1.solution_value())\n",
    "    print(\"x_2 =\", x_2.solution_value())\n",
    "    print(\"x_3 =\", x_3.solution_value())\n",
    "    print(\"x_4 =\", x_4.solution_value())\n",
    "\n",
    "else:\n",
    "    print(\"The problem does not have an optimal solution.\")\n",
    "    \n",
    "```\n",
    "\n",
    "или в матричном виде\n",
    "```\n",
    "x_optimal = np.array([])\n",
    "for i in x:\n",
    "    x_optimal = np.append(x_optimal, i.solution_value())\n",
    "```\n"
   ]
  },
  {
   "cell_type": "markdown",
   "metadata": {},
   "source": [
    "### Пример"
   ]
  },
  {
   "cell_type": "markdown",
   "metadata": {},
   "source": [
    "\n",
    "\\begin{eqnarray*}\n",
    "f(x)=29x_1+45x_2\\to \\max\\limits_{G},\\\\\n",
    " G=\\left\\{x_1-x_2-3x_3\\leq 5,\\quad\n",
    " 2x_1-3x_2-7x_3+3x_4\\geq 10,\\\\ \n",
    " 2x_1+8x_2+x_3=60,\\quad\n",
    " 4x_1+4x_2+x_4=60,\\\\\\\n",
    " 0 \\leq x_1 \\leq  6,\\quad\n",
    " x_3 \\geq -3 \\right\\}\n",
    "\\end{eqnarray*}"
   ]
  },
  {
   "cell_type": "code",
   "execution_count": 15,
   "metadata": {},
   "outputs": [
    {
     "name": "stdout",
     "output_type": "stream",
     "text": [
      "Requirement already satisfied: ortools in /home/mikhail/PycharmProjects/absolute_optimization/my_project_env/lib/python3.9/site-packages (9.7.2996)\n",
      "Requirement already satisfied: absl-py>=0.13 in /home/mikhail/PycharmProjects/absolute_optimization/my_project_env/lib/python3.9/site-packages (from ortools) (2.0.0)\n",
      "Requirement already satisfied: numpy>=1.13.3 in /home/mikhail/PycharmProjects/absolute_optimization/my_project_env/lib/python3.9/site-packages (from ortools) (1.26.0)\n",
      "Requirement already satisfied: protobuf>=4.23.3 in /home/mikhail/PycharmProjects/absolute_optimization/my_project_env/lib/python3.9/site-packages (from ortools) (4.24.4)\n",
      "\n",
      "\u001b[1m[\u001b[0m\u001b[34;49mnotice\u001b[0m\u001b[1;39;49m]\u001b[0m\u001b[39;49m A new release of pip is available: \u001b[0m\u001b[31;49m23.1.2\u001b[0m\u001b[39;49m -> \u001b[0m\u001b[32;49m23.3.1\u001b[0m\n",
      "\u001b[1m[\u001b[0m\u001b[34;49mnotice\u001b[0m\u001b[1;39;49m]\u001b[0m\u001b[39;49m To update, run: \u001b[0m\u001b[32;49mpython -m pip install --upgrade pip\u001b[0m\n",
      "Note: you may need to restart the kernel to use updated packages.\n"
     ]
    }
   ],
   "source": [
    "pip install ortools"
   ]
  },
  {
   "cell_type": "markdown",
   "metadata": {},
   "source": [
    "#### Скалярный случай"
   ]
  },
  {
   "cell_type": "code",
   "execution_count": 14,
   "metadata": {},
   "outputs": [
    {
     "name": "stdout",
     "output_type": "stream",
     "text": [
      "Objective value = 453.78260869565224\n",
      "x_1 = 6.0\n",
      "x_2 = 6.217391304347828\n",
      "x_3 = -1.739130434782609\n",
      "x_4 = 11.130434782608685\n"
     ]
    }
   ],
   "source": [
    "\n",
    "from ortools.linear_solver import pywraplp\n",
    "solver_id = \"GLOP\"\n",
    "solver = pywraplp.Solver.CreateSolver(solver_id)\n",
    "\n",
    "\n",
    "x_1 = solver.NumVar(0, 6, \"x1\")\n",
    "x_2 = solver.NumVar(- solver.infinity(), solver.infinity(), \"x2\")\n",
    "x_3 = solver.NumVar(-3, solver.infinity(), \"x3\")\n",
    "x_4 = solver.NumVar(- solver.infinity(), solver.infinity(), \"x4\")\n",
    "\n",
    "\n",
    "solver.Add(x_1 - x_2 - 3 * x_3 <= 5)\n",
    "solver.Add(2 * x_1 - 3 * x_2 - 7 * x_3 + 3 * x_4 >= 10)\n",
    "solver.Add(2 * x_1 + 8 * x_2 + x_3 == 60)\n",
    "solver.Add(4 * x_1 + 4 * x_2 + x_4 == 60)\n",
    "\n",
    "solver.Maximize(29 * x_1 + 45 * x_2)\n",
    "\n",
    "status = solver.Solve()\n",
    "\n",
    "if status == pywraplp.Solver.OPTIMAL:\n",
    "    print(\"Objective value =\", solver.Objective().Value())\n",
    "    print(\"x_1 =\", x_1.solution_value())\n",
    "    print(\"x_2 =\", x_2.solution_value())\n",
    "    print(\"x_3 =\", x_3.solution_value())\n",
    "    print(\"x_4 =\", x_4.solution_value())\n",
    "\n",
    "\n",
    "else:\n",
    "    print(\"The problem does not have an optimal solution.\")\n"
   ]
  },
  {
   "cell_type": "markdown",
   "metadata": {},
   "source": [
    "#### Матричный случай"
   ]
  },
  {
   "cell_type": "code",
   "execution_count": null,
   "metadata": {},
   "outputs": [],
   "source": [
    "c = np.array([29.0, 45.0, 0.0, 0.0])\n",
    "\n",
    "a = np.array([\n",
    "    [1.0, -1.0, -3.0, 0.0],\n",
    "    [-2.0, 3.0, 7.0, -3.0],\n",
    "    [1.0,  0.0, 0.0,  0.0],\n",
    "    [-1.0, 0.0, 0.0,  0.0],\n",
    "    [0.0,  0.0, -1.0, 0.0]\n",
    "])\n",
    "\n",
    "b = np.array([5.0, -10.0, 6, 0, 3])\n",
    "\n",
    "a_eq = np.array([\n",
    "    [2.0, 8.0, 1.0, 0.0],\n",
    "    [4.0, 4.0, 0.0, 1.0]\n",
    "])\n",
    "\n",
    "b_eq = np.array([60.0, 60.0])"
   ]
  },
  {
   "cell_type": "code",
   "execution_count": 25,
   "metadata": {},
   "outputs": [
    {
     "name": "stdout",
     "output_type": "stream",
     "text": [
      "Objective value = 453.78260869565224\n",
      "[ 6.          6.2173913  -1.73913043 11.13043478]\n"
     ]
    }
   ],
   "source": [
    "from ortools.linear_solver import pywraplp\n",
    "solver_id = \"GLOP\"\n",
    "solver = pywraplp.Solver.CreateSolver(solver_id)\n",
    "\n",
    "n = len(c)\n",
    "x_string = ['x'+str(i) for i in range(1, n+1)]\n",
    "x = [solver.NumVar(-solver.infinity(), solver.infinity(), i) \n",
    "     for i in x_string]\n",
    "\n",
    "for r in range(len(b_eq)):\n",
    "    solver.Add(sum(a_eq[r][u] * x[u] \n",
    "                   for u in range(n)) == b_eq[r])\n",
    "\n",
    "for r in range(len(b)):\n",
    "    solver.Add(sum(a[r][u] * x[u] \n",
    "                   for u in range(n)) <= b[r])\n",
    "    \n",
    "solver.Maximize(sum(c[i] * x[i] \n",
    "                    for i in range(n)))\n",
    "\n",
    "status = solver.Solve()\n",
    "\n",
    "if status == pywraplp.Solver.OPTIMAL:\n",
    "    print(\"Objective value =\", solver.Objective().Value())\n",
    "    x_optimal = np.array([])\n",
    "    for i in x:\n",
    "        x_optimal = np.append(x_optimal, i.solution_value())\n",
    "    print(x_optimal)\n",
    "\n",
    "else:\n",
    "    print(\"The problem does not have an optimal solution.\")\n"
   ]
  },
  {
   "cell_type": "markdown",
   "metadata": {
    "id": "50V3RS0l9YzC"
   },
   "source": [
    "## Часть 2 Решение задач"
   ]
  },
  {
   "cell_type": "markdown",
   "metadata": {
    "id": "gDHuXvjwFrFr"
   },
   "source": [
    "1.  Для производства изделий А и В мастерская располагает необходимыми деталями двух видов: Д1 в количестве 80 штук и Д2 в количестве 60 штук.\n",
    "Для производства одного изделия А требуется одна деталь Д1 и одна деталь Д2;\n",
    "для производства одного изделия В требуется две детали  Д1 и одна деталь Д2.\n",
    "Составить оптимальный план производства по доходу, если доход от продажи одного изделия А составляет 3 д.е., а от продажи одного изделия В --- 4 д.е.\n",
    "\n",
    "2.   Для изготовления изделий двух видов имеется 100 кг. металла. На изготовление одного изделия первого вида расходуется 2 кг. металла, а на изготовление одного изделия второго вида требуется 4 кг. Составить план производства, обеспечивающий получение наибольшего дохода от продажи изделий, если доход от продажи каждого изделия первого вида --- 3 д.е., а от каждого изделия второго вида --- 2 д.е. Причем, изделий первого вида требуется изготовить не более 40 штук, а изделий второго вида --- не более 20 штук.\n",
    "\n",
    "3.  Решить задачу линейного программирования графическим методом\n",
    "\\begin{eqnarray*}\n",
    "f=x_{1} +5x_{2}  \\to \\max\\limits_D, \\\\ \n",
    "D= \\left\\{ 4x_{1} +3x_{2} \\le 12, \\quad\n",
    "3x_{1} +2x_{2} \\ge 6, \\quad\n",
    "-6x_{1} +7x_{2} \\le 14, \\\\\n",
    "2x_{1} -3x_{2} \\le 5,\n",
    "x_{1} \\ge 0,\\; x_{2} \\ge 0 \\right\\}.\n",
    "\\end{eqnarray*}\n",
    "4.  Решить задачу линейного программирования графическим методом\n",
    "\\begin{eqnarray*}\n",
    "f=7x_{1} +5x_{2}  \\to \\min\\limits_D,  \\\\ \n",
    "D= \\left\\{3x_{1} +8x_{2} \\ge 24, \\quad -7x_{1} +3x_{2} \\le 21,\\\\ 5x_{1} +4x_{2} \\ge 20,\\quad x_{2} \\le 8,\\quad x_{1} \\ge 0, \\quad x_{2} \\ge 0 \\right\\}.\n",
    "\\end{eqnarray*}\n",
    "5.  Решить задачу линейного программирования симплекс методом\n",
    "\\begin{eqnarray*}\n",
    "f=x_{1} +3x_{2}-2x_3+5  \\to \\max\\limits_D, \\\\ \n",
    "D= \\left\\{ 3x_{1} +x_{2}+3x_3 \\le 11, \\quad\n",
    "x_{1} +3x_{2}+8x_3 \\le 9, \\quad\n",
    "2x_{1} +5x_{2}+6x_3 \\le 16, \\quad \n",
    "x_{1} \\ge 0,\\quad  x_{2} \\ge 0,\\quad x_{3} \\ge 0  \\right\\}.\n",
    "\\end{eqnarray*}\n",
    "\n",
    "6.  Решить задачу линейного программирования симплекс методом\n",
    "\\begin{eqnarray*}\n",
    "f=4x_{1} +2x_{2}-3x_3+6  \\to \\max\\limits_D, \\\\ \n",
    "D= \\left\\{ 5x_{1} -x_{2}+3x_3 \\le 10, \\quad\n",
    "4x_{1} - x_{2}+8x_3 \\le 12, \\quad\n",
    "2x_{1} -5x_{2}+6x_3 \\le 22, \\quad \n",
    "x_{1} \\ge 0,\\quad  x_{2} \\ge 0,\\quad x_{3} \\ge 0  \\right\\}.\n",
    "\\end{eqnarray*}\n",
    "\n",
    "7.  Для задачи линейного программирования\n",
    "\\begin{eqnarray*}f(x)=x_1+2x_2-x_3\\to \\max\\limits_D, \\\\ \n",
    "D= \\left\\{\n",
    "x_{1} +2x_{2} + 3 x_3\\geq 12, \\quad \n",
    "4x_{1} +2x_{2}+x_3 \\leq 24, \\\\\n",
    "4x_{1} +6x_{2}+2x_3 = 32, \\quad\n",
    "x_{1} \\ge 0,\\quad  x_{2} \\ge 0,\\quad x_{3} \\ge 0 \n",
    "\\right\\}.\n",
    "\\end{eqnarray*}\n",
    "найти неотрицательный начальный опорный план методом искусственного базиса.\n",
    "\n",
    "7.  Заменой свести следующую задачу к задаче линейного программирования и найти неотрицательный опорный план\n",
    "\n",
    "\\begin{eqnarray*}F=\\frac{2x_1-x_2}{3x_1+x_2}  \\to \\max\\limits_D, \\\\ \n",
    "D= \\left\\{ x_{1} +2x_{2} = 11, \\quad\n",
    "  x_1-x_2=8, \\\\\n",
    "  -x_1+3x_2=9, \\quad \n",
    " x_{1} \\ge 0,\\quad  x_{2} \\ge 0 \\right\\}.\n",
    "\\end{eqnarray*}\n",
    "\n",
    "8. Доказать, что множество планов основной задачи линейного программирования является выпуклым (если оно не пусто).\n",
    "\\item Привести к канонической форме следующую задачу линейного программирования. Определить, какие переменные являются базисными, найти начальное опорное\n",
    "решение и начальное значение целевой функции:\n",
    "\\begin{equation*}\n",
    "\\begin{array}{l} {F=6x_1+8x_2+x_3 \\to \\max} \\\\\n",
    " {\\left\\{\\begin{array}{l} {x_1+x_2+x_3\\geq3,} \\\\\n",
    "  {x_1+2x_2\\leq4} \\\\\n",
    "    {x_1 \\ge 0, x_2 \\ge 0, x_3 \\ge 0} \\end{array}\\right. } \\end{array}\n",
    "\\end{equation*}\n",
    "\n",
    "9.Привести к канонической форме следующую задачу линейного программирования. Определить, какие переменные являются базисными, найти начальное опорное\n",
    "решение и начальное значение целевой функции:\n",
    "\\begin{equation*}\n",
    "\\begin{array}{l} {F=6x_1+8x_2-x_3 \\to \\max,} \\\\\n",
    " {\\left\\{\\begin{array}{l} {12x_1+x_2+2x_3\\leq3,} \\\\\n",
    "  {x_1+2x_2\\geq4} \\\\\n",
    "    {x_1 \\ge 0, x_2 \\ge 0, x_3 \\ge 0} \\end{array}\\right. } \\end{array}\n",
    "\\end{equation*}\n",
    "\n",
    "\n",
    "\n",
    "10. Решить задачу линейного программирования симплекс-методом:\n",
    " \\begin{equation*}\\begin{array}{l} {-4x_1+2x_3\\to \\max} \\\\\n",
    " {\\left\\{\\begin{array}{l} {x_3\\leq 3} \\\\\n",
    "  {5x_1+2x_2\\leq4} \\\\\n",
    "    {x_j \\ge 0, \\overline{j=1,3}}\n",
    "    \\end{array}\\right. } \\end{array}\\end{equation*}\n",
    "\n",
    "11. Решить задачу линейного программирования симплекс-методом:\n",
    " \\begin{equation*}\\begin{array}{l} {2x_1+2x_3+2\\to \\max} \\\\\n",
    " {\\left\\{\\begin{array}{l}\n",
    "  {2x_1+x_2+x_3\\leq13} \\\\\n",
    "   {2x_1-5x_2+4x_3\\leq19}\\\\\n",
    "    {x_j \\ge 0, \\overline{j=1,3}}\n",
    "    \\end{array}\\right. } \\end{array}\\end{equation*}\n",
    "\n",
    "12. Решить задачу линейного программирования симплекс-методом:\n",
    " \\begin{equation*}\\begin{array}{l} {-3x_1+4x_3+2\\to \\max} \\\\\n",
    " {\\left\\{\\begin{array}{l}\n",
    "  {3x_1+x_2\\leq7} \\\\\n",
    "   {4x_1+2x_2+3x_3\\leq18}\\\\\n",
    "    {x_j \\ge 0, \\overline{j=1,3}}\n",
    "    \\end{array}\\right. } \\end{array}\\end{equation*}\n",
    "\n",
    "13.  Решить задачу линейного программирования симплекс-методом:\n",
    " \\begin{equation*}\\begin{array}{l} {x_1+4x_2+3x_2-2\\to \\max} \\\\\n",
    " {\\left\\{\\begin{array}{l}\n",
    "  {x_1-3x_2+2x_3\\leq4} \\\\\n",
    "   {x_1-x_2+2x_3\\leq5}\\\\\n",
    "    {x_j \\ge 0, \\overline{j=1,3}}\n",
    "    \\end{array}\\right. } \\end{array}\\end{equation*}\n",
    "\n",
    "14.  Решить задачу линейного программирования симплекс-методом:\n",
    " \\begin{equation*}\\begin{array}{l} {3x_1+2x_3-x_6\\to \\max} \\\\\n",
    " {\\left\\{\\begin{array}{l}\n",
    "  {2x_1+x_2-3x_3+6x_6=18} \\\\\n",
    "   {-3x_1+2x_3+x_4-2x_6=24}\\\\\n",
    "      {x_1+3x_3+x_5-4x_6=36}\\\\\n",
    "    {x_j \\ge 0, \\overline{j=1,6}}\n",
    "    \\end{array}\\right. } \\end{array}\\end{equation*}\n",
    "\n",
    "\n",
    "\n"
   ]
  },
  {
   "cell_type": "markdown",
   "metadata": {
    "id": "O0yMmzU59dIl"
   },
   "source": [
    "#Часть 3 Теория"
   ]
  },
  {
   "cell_type": "markdown",
   "metadata": {
    "id": "Igp9sZChNoz_"
   },
   "source": [
    "## Теоретический минимум по методам оптимизации"
   ]
  },
  {
   "cell_type": "markdown",
   "metadata": {
    "id": "fPIickrK_UJh"
   },
   "source": [
    "Необходимо ответить без подготовки не менее, чем на 4 вопроса.\n",
    "\n",
    "1.    Перечислите формы задач линейного программирования?\n",
    "2.    Какая форма задачи линейного программирования называется общей?\n",
    "3.    Какая форма задачи линейного программирования называется канонической?\n",
    "4.    Какая форма задачи линейного программирования называется стандартной?\n",
    "5.    Какая функция называется целевой для задачи линейного программирования?\n",
    "6.    Что такое план задачи линейного программирования?\n",
    "7.    Какое множество называется выпуклым?\n",
    "8.    Какая точка выпуклого множества называется угловой?\n",
    "9.    Какой план задачи линейного программирования называется опорным?\n",
    "10.   Какой план задачи линейного программирования называется невырожденным?\n",
    "11.   Может ли целевая функция задачи линейного программирования принимать максимальное значение более чем в одной вершине многогранника решений?\n",
    "12.   Могут ли ограничения в задаче линейного программирования быть строгими ($>$ или $<$)?\n",
    "13.   В каком случае необходимо применять метод искусственного базиса?\n"
   ]
  },
  {
   "cell_type": "markdown",
   "metadata": {
    "id": "ryhbmUv2Nx5Y"
   },
   "source": [
    "## Теоретический минимум python"
   ]
  },
  {
   "cell_type": "markdown",
   "metadata": {
    "id": "RdLfMZpgN5fw"
   },
   "source": [
    "1.  Каким образом можно задать ограничение $3 \\le x_3 \\le 5 $ при решении задачи линейного программирования с помощью функции linprog?\n",
    "2.  Каким образом можно задать ограничение $2x_1+ 4x_4-3 x_3+x_4 \\ge 12 $ при решении задачи линейного программирования с помощью функции linprog?\n",
    "3. Для каких целей используется параметр bounds в функции linprog?\n",
    "4. В чем разница параметров A_ub и A_eq  в функции linprog?\n",
    "5. Каким образом можно задать ограничение $5 \\le x_3 \\le +\\infty $ при решении задачи линейного программирования с помощью OR-Tools на языке python?\n",
    "6.  Каким образом можно задать ограничение $2x_1 - 4x_4-3 x_3+x_4 \\ge 12 $ при решении задачи линейного программирования с помощью OR-Tools на языке python?\n",
    "7. Как создаются переменные для задачи линейного программирования с помощью OR-Tools на языке python?\n",
    "8. В чем различие создания целочисленной и вещественной переменной в OR-Tools на языке python?\n",
    "9. Как проверить найден ли оптимальный план задачи линейного программирования в в OR-Tools на языке python?\n",
    "10. Что делает эта команда solver.NumVar(0, 6, \"x1\") в OR-Tools на языке python?\n",
    "11. Как создаются ограничения для задачи линейного программирования в OR-Tools на языке python?\n",
    "12. Как создается целевая функция задачи линейного программирования в OR-Tools на языке python?\n",
    "13. Как создаются ограничения равенства задачи линейного программирования в OR-Tools на языке python?\n",
    "14. Как создаются ограничения неравенства задачи линейного программирования в OR-Tools на языке python?\n",
    "15. Поясните, почему отличаются матрицы $a$ и вектора $b$ для решения одного примера при использовании linprog и OR-Tools?\n",
    "\n",
    "\n",
    "\n",
    "\n",
    "\n"
   ]
  },
  {
   "cell_type": "code",
   "execution_count": null,
   "metadata": {},
   "outputs": [],
   "source": []
  }
 ],
 "metadata": {
  "colab": {
   "authorship_tag": "ABX9TyP40N0gSo3TTPSRfba+2yF+",
   "collapsed_sections": [
    "50V3RS0l9YzC"
   ],
   "provenance": []
  },
  "kernelspec": {
   "display_name": "Python 3 (ipykernel)",
   "language": "python",
   "name": "python3"
  },
  "language_info": {
   "codemirror_mode": {
    "name": "ipython",
    "version": 3
   },
   "file_extension": ".py",
   "mimetype": "text/x-python",
   "name": "python",
   "nbconvert_exporter": "python",
   "pygments_lexer": "ipython3",
   "version": "3.9.16"
  }
 },
 "nbformat": 4,
 "nbformat_minor": 1
}
