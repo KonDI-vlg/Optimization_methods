{
  "cells": [
    {
      "cell_type": "markdown",
      "metadata": {
        "id": "Nd_Z8XAVfA61"
      },
      "source": [
        "# <center>Лабораторная работа 3.</center>\n",
        "## <center>Модели линейного программирования</center>\n",
        "\n",
        "*Автор материала: к.т.н., доцент кафедры Фундаметальной информатики и оптимального управления ВолГУ Михаил Алексеевич Харитонов*\n",
        "\n",
        "**Цель работы:** приобретение практических навыков решения задач линейного программирования c использованием языка Python в Jupyter Notebook.\n",
        "\n",
        "**Задание:** Заполните ответ в клетках (где написано \"Ваш код здесь\" или \"Ваш ответ здесь\"), ответьте на вопросы.\n",
        "\n"
      ]
    },
    {
      "cell_type": "markdown",
      "metadata": {
        "id": "I511shCF9TJ0"
      },
      "source": [
        "# Часть 1 Python"
      ]
    },
    {
      "cell_type": "markdown",
      "metadata": {
        "id": "xqngvoYRI9Hz"
      },
      "source": [
        "### Пример 1.1"
      ]
    },
    {
      "cell_type": "markdown",
      "metadata": {
        "id": "y0oo18QuA9kf"
      },
      "source": [
        "\n",
        "На мебельной фабрике из листов фанеры вырезают заготовки трех видов. Их должно быть, соответственно, не менее 24, 31 и 18. Существует два способа раскроя листа: 2+5+2 (отходы 12 см.) и 6+4+3 (отходы 16 см.). Сколько листов и как нужно раскроить, чтобы минимизировать отходы?\n",
        "\n",
        "**Решение.**\n",
        "\n",
        "Пусть\n",
        "\n",
        "$x_{1} $ - количество листов, раскроенных первым способом;\n",
        "\n",
        "$x_{2} $- количество листов, раскроенных вторым способом;\n",
        "\n",
        "При первом способе раскроя получают 2 заготовки первого вида, 5 заготовок второго вида и 2 заготовки третьего вида. При втором способе раскроя получают 6 заготовок первого вида, 4 заготовки второго вида и 3 заготовки третьего вида.  Так как их должно быть не менее 24, 31 и 18 соответственно, имеем:\n",
        "\n",
        "$$2x_{1} +6x_{2} \\ge 24, \\,\\,5x_{1} +4x_{2} \\ge 31,\\,\\, 2x_{1} +3x_{2} \\ge 18.$$\n",
        "\n",
        "\n",
        "Дополним ограничения условием неотрицательности для листов, необходимых для раскроя:\n",
        "\n",
        "$$x_{1} \\ge 0, \\,\\,x_{2} \\ge 0.$$\n",
        "\n",
        "Описанные выше ограничения представляют собой множество $G$ -- область допустимых решений.\n",
        "$$G=\\{2x_{1} +6x_{2} \\ge 24, \\,\\,5x_{1} +4x_{2} \\ge 31,\\,\\, 2x_{1} +3x_{2} \\ge 18, \\,\\, x_{1} \\ge 0, \\,\\,x_{2} \\ge 0\\}.$$\n",
        "\n",
        "Составим целевую функцию. Так как нам необходимо минимизировать отходы, причем при первом способе раскроя отходы составляют 12 см. с листа, а при втором -- 16 см. с листа, получаем:\n",
        "\n",
        "\n",
        "\\begin{equation*}\n",
        "f(x_{1} ,x_{2} )=12x_{1} +16x_{2} \\to \\mathop{\\min }\\limits_{G}.\n",
        "\\end{equation*}\n"
      ]
    },
    {
      "cell_type": "code",
      "execution_count": null,
      "metadata": {
        "colab": {
          "base_uri": "https://localhost:8080/",
          "height": 408
        },
        "id": "AX3Wt9f-ptvh",
        "outputId": "01e5f910-c5a4-4563-aa96-76ee4f50e20f"
      },
      "outputs": [
        {
          "output_type": "execute_result",
          "data": {
            "text/plain": [
              "Text(0, 0.5, '$x_2$')"
            ]
          },
          "metadata": {},
          "execution_count": 1
        },
        {
          "output_type": "display_data",
          "data": {
            "text/plain": [
              "<Figure size 640x480 with 1 Axes>"
            ],
            "image/png": "[encoded data removed]"
          },
          "metadata": {}
        }
      ],
      "source": [
        "import matplotlib.pyplot as plt\n",
        "import numpy as np\n",
        "d = np.linspace(-2,16,300)\n",
        "x,y = np.meshgrid(d,d)\n",
        "plt.imshow( ((6*y>=24-2*x) & (4*y>=31-5*x) & (3*y>=18-2*x) & (x>=0)&(y>=0)).astype(int) ,\n",
        "                extent=(x.min(),x.max(),y.min(),y.max()),origin=\"lower\", cmap=\"Greys\", alpha = 0.3);\n",
        "\n",
        "\n",
        "# plot the lines defining the constraints\n",
        "x = np.linspace(0, 16, 2000)\n",
        "# y >= 2\n",
        "y1 = 24/6.0-2*x/6.0\n",
        "# 2y <= 25 - x\n",
        "y2 =31/4.0-5*x/4.0\n",
        "# 4y >= 2x - 8\n",
        "y3 = 18/3.0-2*x/3.0\n",
        "for c in range(0,115,15):\n",
        "  y4 = (c-12*x)/16.0\n",
        " # plt.plot(x, y4, label=r'$12x_{1} +16x_{2} = c$')\n",
        "\n",
        "\n",
        "# Make plot\n",
        "plt.plot(x, y1, label=r'$2x_{1} +6x_{2} \\geq 24$')\n",
        "plt.plot(x, y2, label=r'$5x_{1} +4x_{2} \\geq 31$')\n",
        "plt.plot(x, y3, label=r'$2x_{1} +3x_{2} \\geq 18$')\n",
        "plt.xlim(0,13)\n",
        "plt.ylim(0,8)\n",
        "plt.legend(bbox_to_anchor=(1.05, 1), loc=2, borderaxespad=0.)\n",
        "plt.xlabel(r'$x_1$')\n",
        "plt.ylabel(r'$x_2$')"
      ]
    },
    {
      "cell_type": "markdown",
      "metadata": {
        "id": "fdSyrdRbItsy"
      },
      "source": [
        "## SciPy (функция linprog)"
      ]
    },
    {
      "cell_type": "markdown",
      "metadata": {
        "id": "IZqmhgPysno0"
      },
      "source": [
        "\n",
        "В библиотеке SciPy для решения задач линейного программирования используется функция `linprog`, которая позволяет решать задачи  вида:\n",
        "$$\n",
        "  c^T x\\to \\min, A \\cdot x\\leq b, A_{eq} \\cdot x= b_{eq}, l_b\\leq x \\leq u_b,\n",
        "$$\n",
        "где\n",
        " $c$ --- вектор-столбец коэффициентов целевой функции (размерность $n$);\n",
        "\n",
        " $A$  --- матрица линейных ограничений в форме неравенств (размерность $k \\times n$);\n",
        "\n",
        " $b$ --- вектор-столбец правых частей ограничений в форме неравенств  (размерность $k$);\n",
        "\n",
        " $A_{eq}$  - матрица линейных ограничений в форме равенств (размерность $m-k \\times n$);\n",
        "\n",
        " $b_{eq}$ - вектор-столбец правых частей ограничений в форме равенств  (размерность $m-k$);\n",
        "\n",
        "  $l_b$ - вектор-столбец --- нижняя оценка $x$ (размерность $n$);\n",
        "\n",
        " $u_b$ - вектор-столбец --- верхняя оценка $x$ (размерность $n$);\n",
        "\n",
        "\n",
        "\n",
        "Синтаксис обращения к функции `linprog` зависит от количества входных и выходных аргументов функции:\n",
        "```\n",
        "scipy.optimize.linprog(c, A_ub=None, b_ub=None, A_eq=None, b_eq=None, bounds=None, callback=None, options=None, x0=None)\n",
        "```\n",
        "*   `bounds` - последовательность пар (мин., макс.) для каждого элемента вектора $x$, определяющая минимальное и максимальное значения данной переменной .  По умолчанию границы равны (0, None).\n",
        "\n",
        "\n",
        "*   `callback` - содержит следующие параметры:\n",
        "\n",
        "   *  x [1-D array] --- вектор оптимального решения.\n",
        "\n",
        "   *     fun [float]  --- оптимальное значение целевой функции.\n",
        "\n",
        "    *    success [bool] --- истинно, когда алгоритм завершился успешно.\n",
        "\n",
        "    *   status [int] --- целое число, представляющее статус алгоритма.\n",
        "\n",
        "      0.   Оптимизация идет штатно.\n",
        "      1.   Достигнут предел итераций.\n",
        "      2.   Задача неразрешима.\n",
        "      3.   Задача неорганиченна.\n",
        "      4.   Возникли вычислительные трудности.\n",
        "\n",
        "   *   nit [int] --- номер текущей итерации.\n",
        "   *   message [str] --- строковый дескриптор статуса алгоритма.\n",
        "\n",
        "\n",
        "\n",
        "\n"
      ]
    },
    {
      "cell_type": "markdown",
      "metadata": {
        "id": "P1OLNQqrW1Yt"
      },
      "source": [
        "### Пример (LP SciPy)"
      ]
    },
    {
      "cell_type": "markdown",
      "metadata": {
        "id": "-gRwLno4vxRl"
      },
      "source": [
        "\n",
        "\n",
        "С помощью `linprog` найти решение следующей задачи линейного программирования\n",
        "\n",
        "\\begin{eqnarray*}\n",
        "f(x)=29x_1+45x_2\\to \\max\\limits_{G},\\\\\n",
        " G=\\left\\{x_1-x_2-3x_3\\leq 5,\\quad\n",
        " 2x_1-3x_2-7x_3+3x_4\\geq 10,\\\\\n",
        " 2x_1+8x_2+x_3=60,\\quad\n",
        " 4x_1+4x_2+x_4=60,\\\\\\\n",
        " 0 \\leq x_1 \\leq  6,\\quad\n",
        " x_3 \\geq -3 \\right\\}\n",
        "\\end{eqnarray*}\n",
        "\n",
        "Так как данная задача на поиск максимума линейной функции, а `linprog` используется для поиска минимима, поэтому умножим коэфициенты целевой функции на -1.\n",
        "\n",
        "Целевая функция будет иметь вид $$\\hat{f}(x)=-29\\cdot x_1-45\\cdot  x_2+0\\cdot  x_3+0\\cdot  x_4\\to \\min, $$\n",
        "а вектор $c=(-29,-45, 0, 0)^T$.\n",
        "\n",
        " Ограничения в форме неравенств должны быть со знаком $\\leq$, поэтому домножим второе ограничение на -1.\n",
        "\n",
        "Т.о. ограничения в форме неравенств будут иметь вид:\n",
        "\\begin{eqnarray*}\n",
        " x_1-x_2-3x_3\\leq 5,\\\\\n",
        " -2x_1+3x_2+7x_3-3x_4\\leq -10,\\\\\n",
        "\\end{eqnarray*}\n",
        "Данные ограничения можно записать в матричной форме\n",
        "$$A\\cdot x \\leq b,$$\n",
        "где\n",
        "$A =\n",
        "\\begin{pmatrix}\n",
        "1 & -1 & -3 & 0\\\\\n",
        "-2 & 3 & 7 & -3\n",
        "\\end{pmatrix}$, $b=\\begin{pmatrix}\n",
        "5\\\\\n",
        "-10\n",
        "\\end{pmatrix}$.\n",
        "\n",
        "Запишем ограничения в форме равенств\n",
        "\\begin{eqnarray*}\n",
        "  2x_1+8x_2+x_3=60,\\\\\n",
        " 4x_1+4x_2+x_4=60.\\\\\n",
        "\\end{eqnarray*}\n",
        "Данные ограничения можно записать в матричной форме\n",
        "$$A_{eq}\\cdot x \\leq b_{eq},$$\n",
        "где\n",
        "$A_{eq} =\n",
        "\\begin{pmatrix}\n",
        "2 & 8 & 1 & 0\\\\\n",
        "4 & 4 & 0 & 1\n",
        "\\end{pmatrix}$, $b_{eq}=\\begin{pmatrix}\n",
        "60\\\\\n",
        "60\n",
        "\\end{pmatrix}$.\n",
        "\n",
        "Давайте рассмотрим отдельные ограничения неравенства на отдельные переменные, которые можно использовать с помощью аргумента `bounds`. В документации `linprog` значение по умолчанию для границ равно (0, None), что означает, что нижняя граница для каждого решения переменная равна 0, а верхняя граница каждой переменной решения --- бесконечность.\n"
      ]
    },
    {
      "cell_type": "code",
      "execution_count": null,
      "metadata": {
        "id": "UKmemDnMpsQa",
        "colab": {
          "base_uri": "https://localhost:8080/"
        },
        "outputId": "7ccc3d38-f7f7-48b4-8fbe-e2f8745c6b12"
      },
      "outputs": [
        {
          "output_type": "stream",
          "name": "stdout",
          "text": [
            "        message: Optimization terminated successfully. (HiGHS Status 7: Optimal)\n",
            "        success: True\n",
            "         status: 0\n",
            "            fun: -453.7826086956522\n",
            "              x: [ 6.000e+00  6.217e+00 -1.739e+00  1.113e+01]\n",
            "            nit: 3\n",
            "          lower:  residual: [ 6.000e+00  6.217e+00  1.261e+00  1.113e+01]\n",
            "                 marginals: [ 0.000e+00  0.000e+00  0.000e+00  0.000e+00]\n",
            "          upper:  residual: [ 0.000e+00        inf        inf        inf]\n",
            "                 marginals: [-1.530e+01  0.000e+00  0.000e+00  0.000e+00]\n",
            "          eqlin:  residual: [ 0.000e+00  0.000e+00]\n",
            "                 marginals: [-5.870e+00 -0.000e+00]\n",
            "        ineqlin:  residual: [ 0.000e+00  2.891e+01]\n",
            "                 marginals: [-1.957e+00 -0.000e+00]\n",
            " mip_node_count: 0\n",
            " mip_dual_bound: 0.0\n",
            "        mip_gap: 0.0\n"
          ]
        }
      ],
      "source": [
        "import numpy as np\n",
        "from scipy.optimize import linprog\n",
        "c = np.array([-29.0, -45.0, 0.0, 0.0])\n",
        "A = np.array([[1.0, -1.0, -3.0, 0.0],\n",
        "[-2.0, 3.0, 7.0, -3.0]])\n",
        "b = np.array([5.0, -10.0])\n",
        "A_eq = np.array([[2.0, 8.0, 1.0, 0.0],\n",
        "[4.0, 4.0, 0.0, 1.0]])\n",
        "b_eq = np.array([60.0, 60.0])\n",
        "x1_bounds =  (0, 6.0)\n",
        "x2_bounds = (0, None)\n",
        "x3_bounds =  (-3.0, None)\n",
        "x4_bounds = (0, None)\n",
        "bounds = [x1_bounds, x2_bounds, x3_bounds, x4_bounds]\n",
        "result = linprog(c, A_ub=A, b_ub=b, A_eq=A_eq, b_eq=b_eq,bounds=bounds)\n",
        "print(result)"
      ]
    },
    {
      "cell_type": "markdown",
      "metadata": {
        "id": "vXL1LvRmDCDX"
      },
      "source": [
        "Получили, что минимальное значение целевой функции $$\\hat{f}^*=\\hat{f}(x^*)=-453.782, $$ $$x^*=(6, 6.2173913, -1.73913043, 11.13043478)^T.$$\n",
        "\n",
        "Так как $\\hat{f}=-f$, то  $f^*=453.782$."
      ]
    },
    {
      "cell_type": "markdown",
      "metadata": {
        "id": "zdDJEOwbdzYq"
      },
      "source": [
        "### Задание 1"
      ]
    },
    {
      "cell_type": "markdown",
      "metadata": {
        "id": "K918WmWtd5Lj"
      },
      "source": [
        "С помощью `linprog` найти решение следующей задачи линейного программирования\n",
        "\n",
        "\\begin{eqnarray*}\n",
        "f(x)=-\\frac{3}{4}x_1+20x_2-\\frac{1}{2}x_3+6x_4\\to \\max\\limits_{G},\\\\\n",
        "G=\\left\\{\\frac{1}{4} x_1-8 x_2-x_3+9x_4+x_5=0,\\\\\n",
        "\\frac{1}{2} x_1-12 x_2-\\frac{1}{2}x_3+3x_4+x_6= 0, \\\\\n",
        "x_3+3x_4+x_7= 0\\right\\}\n",
        "\\end{eqnarray*}"
      ]
    },
    {
      "cell_type": "code",
      "execution_count": null,
      "metadata": {
        "id": "kh4DkUb8gFLT"
      },
      "outputs": [],
      "source": [
        "#Ваш код здесь"
      ]
    },
    {
      "cell_type": "markdown",
      "metadata": {
        "id": "yrbYZsvVSVVS"
      },
      "source": [
        "## OR-Tools (Google's Operations Research tools)"
      ]
    },
    {
      "cell_type": "markdown",
      "source": [
        "###Основные шаги в решении задачи линейного программирования с использованием обертки OR-Tools."
      ],
      "metadata": {
        "id": "G0Qsxg8aV1Gm"
      }
    },
    {
      "cell_type": "markdown",
      "source": [
        "###0. Установка библиотек."
      ],
      "metadata": {
        "id": "TZARYrX6VtKD"
      }
    },
    {
      "cell_type": "markdown",
      "metadata": {
        "id": "0OJiVPdASVVS"
      },
      "source": [
        "\n",
        "```\n",
        "pip install ortools\n",
        "```"
      ]
    },
    {
      "cell_type": "markdown",
      "source": [
        "###1. Импорт необходимых библиотек.\n",
        "\n",
        "\n"
      ],
      "metadata": {
        "id": "2Vniwfv2WDxK"
      }
    },
    {
      "cell_type": "markdown",
      "source": [
        "\n",
        "\n",
        "```\n",
        "from ortools.linear_solver import pywraplp\n",
        "```"
      ],
      "metadata": {
        "id": "1ujhUcUsWEBQ"
      }
    },
    {
      "cell_type": "markdown",
      "source": [
        "###2. Объявление солвера."
      ],
      "metadata": {
        "id": "1TWyfwXVWEJp"
      }
    },
    {
      "cell_type": "markdown",
      "source": [
        "pywraplp — это оболочка Python для базового решателя C++.\n",
        "Аргумент solver_id указывает, что для задачи линейного программирования будет использован солвер GLOP .\n",
        "\n",
        "```\n",
        "solver_id = \"GLOP\"\n",
        "solver = pywraplp.Solver.CreateSolver(solver_id)\n",
        "```\n"
      ],
      "metadata": {
        "id": "SizttqlzWENg"
      }
    },
    {
      "cell_type": "markdown",
      "source": [
        "###3. Создание переменных."
      ],
      "metadata": {
        "id": "uOpQ-LWCWERN"
      }
    },
    {
      "cell_type": "markdown",
      "source": [
        "Создание одной скалярной переменной $x$:\n",
        "\n",
        "```\n",
        "x = solver.type_variable (min_value, max_value, name_variable)\n",
        "```\n",
        "где\n",
        "\n",
        "    type_variable - тип переменной (IntVar - целочисленный, NumVar - вещественный, BoolVar - булевы),\n",
        "    min_value - минимальное возможное значение переменной,\n",
        "    max_value - максимальное возможное значение переменной,\n",
        "    name_variable - имя переменной.\n",
        "\n",
        "Если нужно создать вектор переменных ( многомерные вектора создаются с использование вложенных циклов)\n",
        "```\n",
        "x_string = ['x'+str(i) for i in range(1, n+1)]\n",
        "x = [solution.NumVar(0, solution.infinity(), i) for i in x_string]\n",
        "```"
      ],
      "metadata": {
        "id": "SCR1Nek7WEUT"
      }
    },
    {
      "cell_type": "markdown",
      "source": [
        "###4. Создание ограничений."
      ],
      "metadata": {
        "id": "cshquFaHWEXi"
      }
    },
    {
      "cell_type": "markdown",
      "source": [
        "\n",
        "\n",
        "Ограничения задачи можно добавлять по одному\n",
        "\n",
        "```\n",
        "solver.Add(x_1 - x_2 - 3 * x_3 <= 5)\n",
        "solver.Add(4 * x_1 + 4 * x_2 + x_4 == 60)\n",
        "```\n",
        "или сразу все, если задача записана в матричном виде\n",
        "```\n",
        "for r in range(len(b_eq)):\n",
        "    solver.Add(sum(a_eq[r][u] * x[u] for u in range(len(x))) == b_eq[r])\n",
        "\n",
        "for r in range(len(b)):\n",
        "    solver.Add(sum(a[r][u] * x[u] for u in range(len(x))) <= b[r])\n",
        "```"
      ],
      "metadata": {
        "id": "jsoYGLePWEaZ"
      }
    },
    {
      "cell_type": "markdown",
      "source": [
        "###5. Создание целевой функции"
      ],
      "metadata": {
        "id": "at0raNqJWEde"
      }
    },
    {
      "cell_type": "markdown",
      "source": [
        "Если задача на максимум - solver.Maximize(), если на минимум - solver.Minimize.\n",
        "\n",
        "---\n",
        "\n",
        "\n",
        "\n",
        "```\n",
        "solver.Maximize(29 * x_1 + 45 * x_2)\n",
        "```\n",
        "или в матричном виде\n",
        "```\n",
        "solver.Maximize(sum(c[i] * x[i] for i in range(len(x))))      \n",
        "```"
      ],
      "metadata": {
        "id": "oMpLHEREWEgR"
      }
    },
    {
      "cell_type": "markdown",
      "source": [
        "###6. Вызов солвера."
      ],
      "metadata": {
        "id": "gEdcmnLWW3oY"
      }
    },
    {
      "cell_type": "markdown",
      "source": [
        "\n",
        "```\n",
        "status = solver.Solve()\n",
        "```"
      ],
      "metadata": {
        "id": "PjjClRecWEjK"
      }
    },
    {
      "cell_type": "markdown",
      "source": [
        "###7. Отображение результата."
      ],
      "metadata": {
        "id": "casIkG9EWz03"
      }
    },
    {
      "cell_type": "markdown",
      "metadata": {
        "id": "gmgrWO3qSVVS"
      },
      "source": [
        "\n",
        "\n",
        "Если статус солвера сопадает с оптимальным, то  решение найдено. Можно вывести значение целевой функции и переменных.\n",
        "Иначе, задача не имеет решения.\n",
        "```\n",
        "if status == pywraplp.Solver.OPTIMAL:\n",
        "    print(\"Objective value =\", solver.Objective().Value())\n",
        "    print(\"x_1 =\", x_1.solution_value())\n",
        "    ....\n",
        "\n",
        "else:\n",
        "    print(\"The problem does not have an optimal solution.\")\n",
        "    \n",
        "```\n",
        "или в матричном виде\n",
        "```\n",
        "x_optimal = np.array([])\n",
        "for i in x:\n",
        "    x_optimal = np.append(x_optimal, i.solution_value())\n",
        "```"
      ]
    },
    {
      "cell_type": "markdown",
      "metadata": {
        "id": "_9Vwh6yzSVVS"
      },
      "source": [
        "### Пример"
      ]
    },
    {
      "cell_type": "markdown",
      "metadata": {
        "id": "kp2q6mkSSVVS"
      },
      "source": [
        "\n",
        "\\begin{eqnarray*}\n",
        "f(x)=29x_1+45x_2\\to \\max\\limits_{G},\\\\\n",
        " G=\\left\\{x_1-x_2-3x_3\\leq 5,\\quad\n",
        " 2x_1-3x_2-7x_3+3x_4\\geq 10,\\\\\n",
        " 2x_1+8x_2+x_3=60,\\quad\n",
        " 4x_1+4x_2+x_4=60,\\\\\\\n",
        " 0 \\leq x_1 \\leq  6,\\quad\n",
        " x_3 \\geq -3 \\right\\}\n",
        "\\end{eqnarray*}"
      ]
    },
    {
      "cell_type": "markdown",
      "metadata": {
        "id": "1iECRoXJSVVS"
      },
      "source": [
        "#### Скалярный случай"
      ]
    },
    {
      "cell_type": "code",
      "execution_count": null,
      "metadata": {
        "id": "fjQ3dCz0SVVT",
        "outputId": "f5a3a8d3-0189-4a93-85f5-9036a166e0df"
      },
      "outputs": [
        {
          "name": "stdout",
          "output_type": "stream",
          "text": [
            "Objective value = 453.78260869565224\n",
            "x_1 = 6.0\n",
            "x_2 = 6.217391304347828\n",
            "x_3 = -1.739130434782609\n",
            "x_4 = 11.130434782608685\n"
          ]
        }
      ],
      "source": [
        "from ortools.linear_solver import pywraplp\n",
        "solver_id = \"GLOP\"\n",
        "solver = pywraplp.Solver.CreateSolver(solver_id)\n",
        "\n",
        "x_1 = solver.NumVar(0, 6, \"x1\")\n",
        "x_2 = solver.NumVar(- solver.infinity(), solver.infinity(), \"x2\")\n",
        "x_3 = solver.NumVar(-3, solver.infinity(), \"x3\")\n",
        "x_4 = solver.NumVar(- solver.infinity(), solver.infinity(), \"x4\")\n",
        "\n",
        "solver.Add(x_1 - x_2 - 3 * x_3 <= 5)\n",
        "solver.Add(2 * x_1 - 3 * x_2 - 7 * x_3 + 3 * x_4 >= 10)\n",
        "solver.Add(2 * x_1 + 8 * x_2 + x_3 == 60)\n",
        "solver.Add(4 * x_1 + 4 * x_2 + x_4 == 60)\n",
        "\n",
        "solver.Maximize(29 * x_1 + 45 * x_2)\n",
        "\n",
        "status = solver.Solve()\n",
        "\n",
        "if status == pywraplp.Solver.OPTIMAL:\n",
        "    print(\"Objective value =\", solver.Objective().Value())\n",
        "    print(\"x_1 =\", x_1.solution_value())\n",
        "    print(\"x_2 =\", x_2.solution_value())\n",
        "    print(\"x_3 =\", x_3.solution_value())\n",
        "    print(\"x_4 =\", x_4.solution_value())\n",
        "\n",
        "else:\n",
        "    print(\"The problem does not have an optimal solution.\")\n"
      ]
    },
    {
      "cell_type": "markdown",
      "metadata": {
        "id": "rZ0gTjMwSVVT"
      },
      "source": [
        "#### Матричный случай"
      ]
    },
    {
      "cell_type": "code",
      "execution_count": null,
      "metadata": {
        "id": "lUIdcdEPSVVT"
      },
      "outputs": [],
      "source": [
        "c = np.array([29.0, 45.0, 0.0, 0.0])\n",
        "a = np.array([\n",
        "    [1.0, -1.0, -3.0, 0.0],\n",
        "    [-2.0, 3.0, 7.0, -3.0],\n",
        "    [1.0,  0.0, 0.0,  0.0],\n",
        "    [-1.0, 0.0, 0.0,  0.0],\n",
        "    [0.0,  0.0, -1.0, 0.0]\n",
        "])\n",
        "b = np.array([5.0, -10.0, 6, 0, 3])\n",
        "a_eq = np.array([\n",
        "    [2.0, 8.0, 1.0, 0.0],\n",
        "    [4.0, 4.0, 0.0, 1.0]\n",
        "])\n",
        "b_eq = np.array([60.0, 60.0])"
      ]
    },
    {
      "cell_type": "code",
      "execution_count": null,
      "metadata": {
        "id": "KF0Uc4-dSVVT",
        "outputId": "f5b809b8-7e6e-4b7c-dd7b-28f4e586a045"
      },
      "outputs": [
        {
          "name": "stdout",
          "output_type": "stream",
          "text": [
            "Objective value = 453.78260869565224\n",
            "[ 6.          6.2173913  -1.73913043 11.13043478]\n"
          ]
        }
      ],
      "source": [
        "from ortools.linear_solver import pywraplp\n",
        "solver_id = \"GLOP\"\n",
        "solver = pywraplp.Solver.CreateSolver(solver_id)\n",
        "\n",
        "n = len(c)\n",
        "x_string = ['x'+str(i) for i in range(1, n+1)]\n",
        "x = [solver.NumVar(-solver.infinity(), solver.infinity(), i)\n",
        "     for i in x_string]\n",
        "\n",
        "for r in range(len(b_eq)):\n",
        "    solver.Add(sum(a_eq[r][u] * x[u]\n",
        "                   for u in range(n)) == b_eq[r])\n",
        "\n",
        "for r in range(len(b)):\n",
        "    solver.Add(sum(a[r][u] * x[u]\n",
        "                   for u in range(n)) <= b[r])\n",
        "\n",
        "solver.Maximize(sum(c[i] * x[i]\n",
        "                    for i in range(n)))\n",
        "\n",
        "status = solver.Solve()\n",
        "\n",
        "if status == pywraplp.Solver.OPTIMAL:\n",
        "    print(\"Objective value =\", solver.Objective().Value())\n",
        "    x_optimal = np.array([])\n",
        "    for i in x:\n",
        "        x_optimal = np.append(x_optimal, i.solution_value())\n",
        "    print(x_optimal)\n",
        "else:\n",
        "    print(\"The problem does not have an optimal solution.\")"
      ]
    },
    {
      "cell_type": "markdown",
      "metadata": {
        "id": "bcla7SSWSVVT"
      },
      "source": [
        "### Задание 2"
      ]
    },
    {
      "cell_type": "markdown",
      "metadata": {
        "id": "Igyq2m_rSVVT"
      },
      "source": [
        "1. С помощью OR-Tools найти решение задачи линейного программирования\n",
        "\n",
        "\n",
        "\\begin{eqnarray*}\n",
        "f(x)=x_1+x_2+x_3-x_4+x_5\\to \\max\\limits_{G},\\\\\n",
        " G=\\left\\{\n",
        " 10 x_1 -    x_2 +  x_3 -    x_4 + x_5 \\leq 156,\\\\\n",
        " 7  x_1 + 12 x_2 + 3x_3 + 13 x_4 + 21 x_5 \\ge 101,\\\\\n",
        " 5  x_1 +   2x_2 - 4x_3 +   5x_4 + 34 x_5 \\leq 256,\\\\\n",
        "    x_1 +   4x_2 + 2x_3 +   1x_4 + 12 x_5 = 350,\\\\\n",
        " 0 \\leq x_1 \\leq  16,\\\\\n",
        " 0 \\leq x_2 \\leq  20,\\\\\n",
        " -10 \\leq x_3 \\leq  10,\\\\\n",
        " 0 \\leq x_4 \\leq  +\\infty,\\\\\n",
        "  -\\infty \\leq x_5 \\leq  +\\infty\n",
        "  \\right\\}\n",
        "\\end{eqnarray*}\n",
        "\n",
        "2. Если задача не имеет оптимального плана, то выяснить причину отсутсвия оптимального плана.\n",
        "Например, найти ограничение, из-за которого $G = \\varnothing$.\n",
        "\n",
        "Найти минимальное значение правой части при котором данное $G \\neq \\varnothing$ для ограничений неравенств типа \"$\\le$\" или максимальное значение правой части при котором данное $G \\neq \\varnothing$ для ограничений неравенств типа \"$\\ge$\" или любое значение правой части при котором данное $G \\neq \\varnothing$ для ограничений равенств.\n",
        "\n",
        "\n",
        "**Бонусные баллы**\n",
        " - если каждый этап решения задачи (построение перемеменных, построение ограничений, построение целевой функции, проверка решения на оптимальность, вывод решения и др) будет реализован в виде отдельного метода."
      ]
    },
    {
      "cell_type": "code",
      "execution_count": null,
      "metadata": {
        "id": "tu3nsHLfSVVU"
      },
      "outputs": [],
      "source": [
        "#Ваш код здесь"
      ]
    },
    {
      "cell_type": "markdown",
      "metadata": {
        "id": "E2mjEzIJSVVU"
      },
      "source": [
        "### Задание 3"
      ]
    },
    {
      "cell_type": "markdown",
      "metadata": {
        "id": "ubiMV9bESVVU"
      },
      "source": [
        "1. С помощью OR-Tools найти решение задачи линейного программирования\n",
        "\n",
        "\\begin{eqnarray*}\n",
        "f(x)=3 x_{11} + 20 x_{12}-2 x_{13} + 6 x_{14} + \\\\\n",
        "+13 x_{21} + 12 x_{22}+ 32 x_{23} + 7 x_{24} + \\\\\n",
        "+21 x_{31} + 2 x_{32}+ 7 x_{34} \\to \\max\\limits_{G},\\\\\n",
        "G=\\left\\{ 1x_{11} + 3x_{12} + 8x_{13} + 6x_{14} \\le 290,\\\\\n",
        "2x_{21} + 5x_{22} + 13x_{23} + x_{24} \\le 430, \\\\\n",
        "6x_{31} - 2x_{32} + 2x_{33} + 9x_{34} \\le 511, \\\\\n",
        "x_{11} + x_{12} + x_{13} + x_{14} = 191,\\\\\n",
        "x_{21} + x_{22} + x_{23} + x_{24} = 250, \\\\\n",
        "x_{31} + x_{32} + x_{33} + x_{34} = 601, \\\\\n",
        "x_{ij} \\ge 0, i=\\overline{0,3} , j=\\overline{0,4} ,\\\\\n",
        "x_{ij} \\le 70, i=\\overline{0,3} , j=\\overline{0,4}\\right\\}\n",
        "\\end{eqnarray*}\n",
        "\n",
        "\n",
        "2. Если задача не имеет оптимального плана, то выяснить причину отсутсвия оптимального плана.\n",
        "Например, найти ограничение, из-за которого $G = \\varnothing$.\n",
        "\n",
        "Найти минимальное значение правой части при котором данное $G \\neq \\varnothing$ для ограничений неравенств типа \"$\\le$\" или максимальное значение правой части при котором данное $G \\neq \\varnothing$ для ограничений неравенств типа \"$\\ge$\" или любое значение правой части при котором данное $G \\neq \\varnothing$ для ограничений равенств.\n",
        "\n",
        "\n",
        "**Бонусные баллы**\n",
        " - если каждый этап решения задачи (построение перемеменных, построение ограничений, построение целевой функции, проверка решения на оптимальность, вывод решения и др) будет реализован в виде отдельного метода."
      ]
    },
    {
      "cell_type": "code",
      "execution_count": null,
      "metadata": {
        "id": "0XA2AKhCSVVU"
      },
      "outputs": [],
      "source": [
        "#Ваш код здесь"
      ]
    },
    {
      "cell_type": "markdown",
      "source": [
        "##PULP"
      ],
      "metadata": {
        "id": "4Hx0j5QBYD3l"
      }
    },
    {
      "cell_type": "markdown",
      "source": [
        "##Основные шаги в решении задачи линейного программирования с использованием PULP."
      ],
      "metadata": {
        "id": "2cVBLjgUbn-k"
      }
    },
    {
      "cell_type": "markdown",
      "source": [
        "###0. Установка библиотек."
      ],
      "metadata": {
        "id": "m9QW8_O9duMB"
      }
    },
    {
      "cell_type": "markdown",
      "source": [
        "\n",
        "```\n",
        "pip install pulp\n",
        "```"
      ],
      "metadata": {
        "id": "1Nb0eoC3d7Ba"
      }
    },
    {
      "cell_type": "markdown",
      "source": [
        "###1. Импорт необходимых библиотек."
      ],
      "metadata": {
        "id": "hMvrAzy3eHGp"
      }
    },
    {
      "cell_type": "markdown",
      "source": [
        "\n",
        "```\n",
        "import pulp\n",
        "```"
      ],
      "metadata": {
        "id": "cSB60SBIeIyI"
      }
    },
    {
      "cell_type": "markdown",
      "source": [
        "###2. Объявление солвера."
      ],
      "metadata": {
        "id": "dR7gpqa_eI__"
      }
    },
    {
      "cell_type": "markdown",
      "source": [
        "\n",
        "Если задача на максимум - pulp.LpMaximize, если на минимум - pulp.LpMinimize.\n",
        "\n",
        "\n",
        "```\n",
        "solver = pulp.LpProblem(sense=pulp.LpMaximize)\n",
        "```"
      ],
      "metadata": {
        "id": "heHzmPgveUsr"
      }
    },
    {
      "cell_type": "markdown",
      "source": [
        "###3. Создание переменных."
      ],
      "metadata": {
        "id": "WmWdh7S5ek7s"
      }
    },
    {
      "cell_type": "markdown",
      "source": [
        "\n",
        "\n",
        "```\n",
        "x = {i: pulp.LpVariable(name=f\"x{i}\",\n",
        "    lowBound=min_value, upBound=max_value)\n",
        "        for i in range(len(n))}\n",
        "```\n",
        "где\n",
        "\n",
        "    min_value - минимальное возможное значение переменной,\n",
        "    max_value - максимальное возможное значение переменной,\n",
        "    x{i} - имя переменной.\n",
        "\n"
      ],
      "metadata": {
        "id": "62mmKYFHfKQm"
      }
    },
    {
      "cell_type": "code",
      "source": [],
      "metadata": {
        "colab": {
          "base_uri": "https://localhost:8080/"
        },
        "id": "2sdA7MWDcjGx",
        "outputId": "5a9ce6d8-e4d0-47e0-d390-8316d7f6943c"
      },
      "execution_count": null,
      "outputs": [
        {
          "output_type": "stream",
          "name": "stdout",
          "text": [
            "Collecting pulp\n",
            "  Downloading PuLP-2.7.0-py3-none-any.whl (14.3 MB)\n",
            "\u001b[2K     \u001b[90m━━━━━━━━━━━━━━━━━━━━━━━━━━━━━━━━━━━━━━━━\u001b[0m \u001b[32m14.3/14.3 MB\u001b[0m \u001b[31m102.5 MB/s\u001b[0m eta \u001b[36m0:00:00\u001b[0m\n",
            "\u001b[?25hInstalling collected packages: pulp\n",
            "Successfully installed pulp-2.7.0\n"
          ]
        }
      ]
    },
    {
      "cell_type": "markdown",
      "source": [
        "###4. Создание ограничений."
      ],
      "metadata": {
        "id": "iKW-LPBogxnV"
      }
    },
    {
      "cell_type": "markdown",
      "source": [
        "Создание ограничений неравенств\n",
        "\n",
        "```\n",
        "for u in range(len(b)):\n",
        "    solver += pulp.lpSum(a[u][r] * x[r]\n",
        "                         for r in range(len(x))) <= b[u]\n",
        "```\n",
        "\n",
        "Создание ограничений равенств\n",
        "\n",
        "```\n",
        "for u in range(len(b_eq)):\n",
        "  solver += pulp.lpSum(a_eq[u][r] * x[r]\n",
        "                      for r in range(len(x))) == b_eq[u]\n",
        "\n",
        "```"
      ],
      "metadata": {
        "id": "7Hx6sm0YgZIW"
      }
    },
    {
      "cell_type": "markdown",
      "source": [
        "###5. Создание целевой функции"
      ],
      "metadata": {
        "id": "qvZAApwNg8RR"
      }
    },
    {
      "cell_type": "markdown",
      "source": [
        "\n",
        "```\n",
        "solver += (pulp.lpSum(c[i] * x[i]\n",
        "          for i in range(len(x))))\n",
        "```"
      ],
      "metadata": {
        "id": "CQ-LdrSjhA4h"
      }
    },
    {
      "cell_type": "markdown",
      "source": [
        "###6. Вызов солвера."
      ],
      "metadata": {
        "id": "99BStIYJhWgs"
      }
    },
    {
      "cell_type": "markdown",
      "source": [
        "\n",
        "\n",
        "```\n",
        "solver.solve()\n",
        "```\n",
        "\n"
      ],
      "metadata": {
        "id": "AWVbceJwhXjn"
      }
    },
    {
      "cell_type": "markdown",
      "source": [
        "###7. Отображение результата."
      ],
      "metadata": {
        "id": "7XY4hX_bhlx2"
      }
    },
    {
      "cell_type": "markdown",
      "source": [
        "\n",
        "Если статус солвера сопадает с оптимальным, то  решение найдено. Можно вывести значение целевой функции и переменных.\n",
        "Иначе, задача не имеет решения.\n",
        "\n",
        "```\n",
        "if solver.solve():\n",
        "  x_optimal = np.array([])\n",
        "  for variable in solver.variables():\n",
        "      x_optimal = np.append(x_optimal, variable.varValue)\n",
        "  print(x_optimal, np.sum(c * x_optimal))\n",
        "else:\n",
        "  print('The solver could not find an optimal solution.')\n",
        "\n",
        "```"
      ],
      "metadata": {
        "id": "hK6wiz__hscJ"
      }
    },
    {
      "cell_type": "code",
      "source": [
        "import pulp\n"
      ],
      "metadata": {
        "id": "dUpwpBpMcefz"
      },
      "execution_count": null,
      "outputs": []
    },
    {
      "cell_type": "code",
      "source": [
        "c = np.array([29.0, 45.0, 0.0, 0.0])\n",
        "a = np.array([\n",
        "    [1.0, -1.0, -3.0, 0.0],\n",
        "    [-2.0, 3.0, 7.0, -3.0],\n",
        "    [1.0,  0.0, 0.0,  0.0],\n",
        "    [-1.0, 0.0, 0.0,  0.0],\n",
        "    [0.0,  0.0, -1.0, 0.0]\n",
        "])\n",
        "b = np.array([5.0, -10.0, 6, 0, 3])\n",
        "a_eq = np.array([\n",
        "    [2.0, 8.0, 1.0, 0.0],\n",
        "    [4.0, 4.0, 0.0, 1.0]\n",
        "])\n",
        "b_eq = np.array([60.0, 60.0])"
      ],
      "metadata": {
        "id": "bsbbffyOc0S2"
      },
      "execution_count": null,
      "outputs": []
    },
    {
      "cell_type": "code",
      "source": [
        "\n",
        "solver = pulp.LpProblem(sense=pulp.LpMaximize)\n",
        "x = {i: pulp.LpVariable(name=f\"x{i}\")\n",
        "for i in range(len(c))}\n",
        "\n",
        "for u in range(len(b)):\n",
        "    solver += pulp.lpSum(a[u][r] * x[r]\n",
        "                         for r in range(len(x))) <= b[u]\n",
        "\n",
        "for u in range(len(b_eq)):\n",
        "  solver += pulp.lpSum(a_eq[u][r] * x[r] for r in range(len(x))) == b_eq[u]\n",
        "\n",
        "solver += (pulp.lpSum(c[i] * x[i] for i in range(len(x))))\n",
        "\n",
        "solver.solve()\n",
        "#solver.writeLP(\"lp_problem.lp\")\n",
        "if solver.solve():\n",
        "  x_optimal = np.array([])\n",
        "  for variable in solver.variables():\n",
        "      x_optimal = np.append(x_optimal, variable.varValue)\n",
        "  print(x_optimal, np.sum(c * x_optimal))\n",
        "else:\n",
        "  print('The solver could not find an optimal solution.')"
      ],
      "metadata": {
        "colab": {
          "base_uri": "https://localhost:8080/"
        },
        "id": "ckLke_wTbpi6",
        "outputId": "458e9cad-bd42-4804-fb00-d99de0eb0b8b"
      },
      "execution_count": null,
      "outputs": [
        {
          "output_type": "stream",
          "name": "stdout",
          "text": [
            "[ 6.         6.2173913 -1.7391304 11.130435 ] 453.7826085\n"
          ]
        }
      ]
    },
    {
      "cell_type": "markdown",
      "source": [
        "### Задание 4"
      ],
      "metadata": {
        "id": "RGBJblJeZ8sy"
      }
    },
    {
      "cell_type": "markdown",
      "source": [
        "1. С помощью PULP найти решение задачи линейного программирования\n",
        "\n",
        "\\begin{eqnarray*}\n",
        "f(x)=\\sum\\limits_{i=\\overline{1,10}} x_i\\to \\max\\limits_{G},\\\\\n",
        "G=\\left\\{ \\sum\\limits_{i=\\overline{1,10}} i\\cdot x_i \\le 2310,\\\\\n",
        " \\sum\\limits_{i \\in \\{1,3,5,7,9\\}} a_i \\cdot x_i \\le 1800, \\, a = (1, 4, 12, 0, -1), \\\\\n",
        " \\sum\\limits_{i \\in \\{2,4,6,8,10\\}} q_i \\cdot x_i \\ge 390, \\, q = (1, -1, 1, 7, 3),\\\\\n",
        "  \\sum\\limits_{i=\\overline{1,5}} w_i\\cdot x_i \\ge 300, \\,w_i= (1, 3, 5, 8, 1),\\\\\n",
        "0\\le x_{i} \\le 100, \\, i=\\overline{0,10} \\right\\}\n",
        "\\end{eqnarray*}\n",
        "\n",
        "\n",
        "2. Если задача не имеет оптимального плана, то выяснить причину отсутсвия оптимального плана.\n",
        "Например, найти ограничение, из-за которого $G = \\varnothing$.\n",
        "\n",
        "Найти минимальное значение правой части при котором данное $G \\neq \\varnothing$ для ограничений неравенств типа \"$\\le$\" или максимальное значение правой части при котором данное $G \\neq \\varnothing$ для ограничений неравенств типа \"$\\ge$\" или любое значение правой части при котором данное $G \\neq \\varnothing$ для ограничений равенств.\n",
        "\n",
        "\n",
        "**Бонусные баллы**\n",
        " - если каждый этап решения задачи (построение перемеменных, построение ограничений, построение целевой функции, проверка решения на оптимальность, вывод решения и др) будет реализован в виде отдельного метода."
      ],
      "metadata": {
        "id": "2EJgqntGaEkj"
      }
    },
    {
      "cell_type": "markdown",
      "source": [
        "##CVXPY"
      ],
      "metadata": {
        "id": "B3R4yVsBV0cO"
      }
    },
    {
      "cell_type": "markdown",
      "source": [
        "##Основные шаги в решении задачи линейного программирования с использованием CVXPY."
      ],
      "metadata": {
        "id": "TXt7U_3RV_yL"
      }
    },
    {
      "cell_type": "markdown",
      "source": [],
      "metadata": {
        "id": "taR12f9Me5xM"
      }
    },
    {
      "cell_type": "markdown",
      "source": [
        "###0. Установка библиотек."
      ],
      "metadata": {
        "id": "UwMdVqALWEmO"
      }
    },
    {
      "cell_type": "markdown",
      "source": [
        "```\n",
        "pip install cvxpy\n",
        "```"
      ],
      "metadata": {
        "id": "_jHWRCpmWU0D"
      }
    },
    {
      "cell_type": "markdown",
      "source": [
        "###1. Импорт необходимых библиотек."
      ],
      "metadata": {
        "id": "oDh4q5oIWoVO"
      }
    },
    {
      "cell_type": "markdown",
      "source": [
        "```\n",
        "import cvxpy as cp\n",
        "```"
      ],
      "metadata": {
        "id": "sIiEgPEgWtx0"
      }
    },
    {
      "cell_type": "markdown",
      "source": [
        "### 3. Создание переменных, ограничений и целевой функции"
      ],
      "metadata": {
        "id": "ZQ_YPUXVZzmf"
      }
    },
    {
      "cell_type": "markdown",
      "source": [
        "a) Создание переменных\n",
        "\n",
        "```\n",
        "x = cp.Variable(n)\n",
        "```\n",
        "где $n$ размерность вектора $x$.\n",
        "\n",
        "б) Создание ограничений. Создаем список ограничений, добавляем ограничения равенства\n",
        "```\n",
        "constraints = [a_eq@x == b_eq]\n",
        "```\n",
        "потом добавляем неравенства\n",
        "\n",
        "```\n",
        "constraints.extend([a@x <= b])\n",
        "```\n",
        "\n",
        "в) Создаем целевую функцию (cp.Maximize или cp.Minimize)\n",
        "\n",
        "```\n",
        "objective = cp.Maximize(c.T@x)\n",
        "```"
      ],
      "metadata": {
        "id": "1eTjkMlYZ9mf"
      }
    },
    {
      "cell_type": "markdown",
      "source": [
        "###4. Объявление солвера и решение задачи"
      ],
      "metadata": {
        "id": "DLW8fPpgW3kr"
      }
    },
    {
      "cell_type": "markdown",
      "source": [
        "```\n",
        "prob = cp.Problem(objective, constraints)\n",
        "prob.solve()\n",
        "```"
      ],
      "metadata": {
        "id": "ebDdl2qtW4-e"
      }
    },
    {
      "cell_type": "markdown",
      "source": [
        "### 5. Отображение результата"
      ],
      "metadata": {
        "id": "zdWk1Wu-dRuF"
      }
    },
    {
      "cell_type": "markdown",
      "source": [
        "\n",
        "Если статус солвера сопадает с оптимальным, то  решение найдено. Можно вывести значение целевой функции и переменных.\n",
        "Иначе, задача не имеет решения.\n",
        "\n",
        "```\n",
        "if prob.solve():\n",
        "    print(\"\\nThe optimal value is\", prob.value)\n",
        "    print(x.value)\n",
        "else:\n",
        "    print('The solver could not find an optimal solution.')\n",
        "\n",
        "```"
      ],
      "metadata": {
        "id": "SSEIhTcbdYoW"
      }
    },
    {
      "cell_type": "markdown",
      "source": [
        "solver.solve()\n"
      ],
      "metadata": {
        "id": "AB3FtKnrc0Uq"
      }
    },
    {
      "cell_type": "markdown",
      "source": [
        "###Пример"
      ],
      "metadata": {
        "id": "ikWHSI1qhC4J"
      }
    },
    {
      "cell_type": "code",
      "source": [
        "pip install cvxpy"
      ],
      "metadata": {
        "colab": {
          "base_uri": "https://localhost:8080/"
        },
        "id": "AGQpyakyWLOe",
        "outputId": "cf42a066-fcce-4b73-db95-060f00c2ef41"
      },
      "execution_count": null,
      "outputs": [
        {
          "output_type": "stream",
          "name": "stdout",
          "text": [
            "Requirement already satisfied: cvxpy in /usr/local/lib/python3.10/dist-packages (1.3.2)\n",
            "Requirement already satisfied: osqp>=0.4.1 in /usr/local/lib/python3.10/dist-packages (from cvxpy) (0.6.2.post8)\n",
            "Requirement already satisfied: ecos>=2 in /usr/local/lib/python3.10/dist-packages (from cvxpy) (2.0.12)\n",
            "Requirement already satisfied: scs>=1.1.6 in /usr/local/lib/python3.10/dist-packages (from cvxpy) (3.2.3)\n",
            "Requirement already satisfied: numpy>=1.15 in /usr/local/lib/python3.10/dist-packages (from cvxpy) (1.23.5)\n",
            "Requirement already satisfied: scipy>=1.1.0 in /usr/local/lib/python3.10/dist-packages (from cvxpy) (1.11.3)\n",
            "Requirement already satisfied: setuptools>65.5.1 in /usr/local/lib/python3.10/dist-packages (from cvxpy) (67.7.2)\n",
            "Requirement already satisfied: qdldl in /usr/local/lib/python3.10/dist-packages (from osqp>=0.4.1->cvxpy) (0.1.7.post0)\n"
          ]
        }
      ]
    },
    {
      "cell_type": "code",
      "source": [
        "import cvxpy as cp\n",
        "import numpy as np\n",
        "\n",
        "c = np.array([29.0, 45.0, 0.0, 0.0])\n",
        "\n",
        "a = np.array([\n",
        "    [1.0, -1.0, -3.0, 0.0],\n",
        "    [-2.0, 3.0, 7.0, -3.0],\n",
        "    [1.0,  0.0, 0.0,  0.0],\n",
        "    [-1.0, 0.0, 0.0,  0.0],\n",
        "    [0.0,  0.0, -1.0, 0.0]\n",
        "])\n",
        "b = np.array([5.0, -10.0, 6, 0, 3])\n",
        "a_eq = np.array([\n",
        "    [2.0, 8.0, 1.0, 0.0],\n",
        "    [4.0, 4.0, 0.0, 1.0]\n",
        "])\n",
        "b_eq = np.array([60.0, 60.0])\n",
        "\n",
        "n = len(c)\n",
        "x = cp.Variable(n)\n",
        "\n",
        "objective = cp.Maximize(c.T@x)\n",
        "constraints = [a_eq @ x == b_eq]\n",
        "constraints.extend([a @ x <= b])\n",
        "\n",
        "prob = cp.Problem(objective, constraints)\n",
        "prob.solve()\n",
        "\n",
        "if prob.solve():\n",
        "    print(\"\\nThe optimal value is\", prob.value)\n",
        "    print(\"A solution x is\")\n",
        "    print(x.value)\n",
        "else:\n",
        "    print('The solver could not find an optimal solution.')"
      ],
      "metadata": {
        "colab": {
          "base_uri": "https://localhost:8080/"
        },
        "id": "waGGQCtFWg3w",
        "outputId": "586c8022-6e2b-4f89-e47a-ca8471b577e9"
      },
      "execution_count": null,
      "outputs": [
        {
          "output_type": "stream",
          "name": "stdout",
          "text": [
            "\n",
            "The optimal value is 453.78260868844893\n",
            "A solution x is\n",
            "[ 6.          6.2173913  -1.73913043 11.13043478]\n"
          ]
        }
      ]
    },
    {
      "cell_type": "markdown",
      "source": [
        "###Задание 5"
      ],
      "metadata": {
        "id": "JbosuCQ_ePCm"
      }
    },
    {
      "cell_type": "markdown",
      "source": [
        "1. С помощью CVXOPT найти решение задачи линейного программирования\n",
        "\n",
        "\\begin{eqnarray*}\n",
        "f(x)=\\sum\\limits_{i=\\overline{1,100}}\\sum\\limits_{j=\\overline{1,100}} x_{ij}\\to \\max\\limits_{G},\\\\\n",
        "G=\\left\\{  \\sum\\limits_{i=\\overline{1,100}} x_{ij} \\le 10000, \\,j=\\overline{1,100},\\\\\n",
        "\\sum\\limits_{j=\\overline{1,100}} x_{ij} \\le 20000, \\,i=\\overline{1,100},\\\\\n",
        "x_{ij} \\ge 0, i=\\overline{1,100}, j=\\overline{1,100}\n",
        "\\right\\}\n",
        "\\end{eqnarray*}\n",
        "\n",
        "\n",
        "2. Если задача не имеет оптимального плана, то выяснить причину отсутсвия оптимального плана.\n",
        "Например, найти ограничение, из-за которого $G = \\varnothing$.\n",
        "\n",
        "Найти минимальное значение правой части при котором данное $G \\neq \\varnothing$ для ограничений неравенств типа \"$\\le$\" или максимальное значение правой части при котором данное $G \\neq \\varnothing$ для ограничений неравенств типа \"$\\ge$\" или любое значение правой части при котором данное $G \\neq \\varnothing$ для ограничений равенств.\n",
        "\n",
        "\n",
        "**Бонусные баллы**\n",
        " - если каждый этап решения задачи (построение перемеменных, построение ограничений, построение целевой функции, проверка решения на оптимальность, вывод решения и др) будет реализован в виде отдельного метода."
      ],
      "metadata": {
        "id": "ZeSE2vpReT5b"
      }
    },
    {
      "cell_type": "markdown",
      "metadata": {
        "id": "50V3RS0l9YzC"
      },
      "source": [
        "# Часть 2 Решение задач"
      ]
    },
    {
      "cell_type": "markdown",
      "metadata": {
        "id": "gDHuXvjwFrFr"
      },
      "source": [
        "1.  Для производства изделий А и В мастерская располагает необходимыми деталями двух видов: Д1 в количестве 80 штук и Д2 в количестве 60 штук.\n",
        "Для производства одного изделия А требуется одна деталь Д1 и одна деталь Д2;\n",
        "для производства одного изделия В требуется две детали  Д1 и одна деталь Д2.\n",
        "Составить оптимальный план производства по доходу, если доход от продажи одного изделия А составляет 3 д.е., а от продажи одного изделия В --- 4 д.е.\n",
        "\n",
        "2.   Для изготовления изделий двух видов имеется 100 кг. металла. На изготовление одного изделия первого вида расходуется 2 кг. металла, а на изготовление одного изделия второго вида требуется 4 кг. Составить план производства, обеспечивающий получение наибольшего дохода от продажи изделий, если доход от продажи каждого изделия первого вида --- 3 д.е., а от каждого изделия второго вида --- 2 д.е. Причем, изделий первого вида требуется изготовить не более 40 штук, а изделий второго вида --- не более 20 штук.\n",
        "\n",
        "3.  Решить задачу линейного программирования графическим методом\n",
        "\\begin{eqnarray*}\n",
        "f=x_{1} +5x_{2}  \\to \\max\\limits_D, \\\\\n",
        "D= \\left\\{ 4x_{1} +3x_{2} \\le 12, \\quad\n",
        "3x_{1} +2x_{2} \\ge 6, \\quad\n",
        "-6x_{1} +7x_{2} \\le 14, \\\\\n",
        "2x_{1} -3x_{2} \\le 5,\n",
        "x_{1} \\ge 0,\\; x_{2} \\ge 0 \\right\\}.\n",
        "\\end{eqnarray*}\n",
        "4.  Решить задачу линейного программирования графическим методом\n",
        "\\begin{eqnarray*}\n",
        "f=7x_{1} +5x_{2}  \\to \\min\\limits_D,  \\\\\n",
        "D= \\left\\{3x_{1} +8x_{2} \\ge 24, \\quad -7x_{1} +3x_{2} \\le 21,\\\\ 5x_{1} +4x_{2} \\ge 20,\\quad x_{2} \\le 8,\\quad x_{1} \\ge 0, \\quad x_{2} \\ge 0 \\right\\}.\n",
        "\\end{eqnarray*}\n",
        "5.  Решить задачу линейного программирования симплекс методом\n",
        "\\begin{eqnarray*}\n",
        "f=x_{1} +3x_{2}-2x_3+5  \\to \\max\\limits_D, \\\\\n",
        "D= \\left\\{ 3x_{1} +x_{2}+3x_3 \\le 11, \\quad\n",
        "x_{1} +3x_{2}+8x_3 \\le 9, \\quad\n",
        "2x_{1} +5x_{2}+6x_3 \\le 16, \\quad\n",
        "x_{1} \\ge 0,\\quad  x_{2} \\ge 0,\\quad x_{3} \\ge 0  \\right\\}.\n",
        "\\end{eqnarray*}\n",
        "\n",
        "6.  Решить задачу линейного программирования симплекс методом\n",
        "\\begin{eqnarray*}\n",
        "f=4x_{1} +2x_{2}-3x_3+6  \\to \\max\\limits_D, \\\\\n",
        "D= \\left\\{ 5x_{1} -x_{2}+3x_3 \\le 10, \\quad\n",
        "4x_{1} - x_{2}+8x_3 \\le 12, \\quad\n",
        "2x_{1} -5x_{2}+6x_3 \\le 22, \\quad\n",
        "x_{1} \\ge 0,\\quad  x_{2} \\ge 0,\\quad x_{3} \\ge 0  \\right\\}.\n",
        "\\end{eqnarray*}\n",
        "\n",
        "7.  Для задачи линейного программирования\n",
        "\\begin{eqnarray*}f(x)=x_1+2x_2-x_3\\to \\max\\limits_D, \\\\\n",
        "D= \\left\\{\n",
        "x_{1} +2x_{2} + 3 x_3\\geq 12, \\quad\n",
        "4x_{1} +2x_{2}+x_3 \\leq 24, \\\\\n",
        "4x_{1} +6x_{2}+2x_3 = 32, \\quad\n",
        "x_{1} \\ge 0,\\quad  x_{2} \\ge 0,\\quad x_{3} \\ge 0\n",
        "\\right\\}.\n",
        "\\end{eqnarray*}\n",
        "найти неотрицательный начальный опорный план методом искусственного базиса.\n",
        "\n",
        "7.  Заменой свести следующую задачу к задаче линейного программирования и найти неотрицательный опорный план\n",
        "\n",
        "\\begin{eqnarray*}F=\\frac{2x_1-x_2}{3x_1+x_2}  \\to \\max\\limits_D, \\\\\n",
        "D= \\left\\{ x_{1} +2x_{2} = 11, \\quad\n",
        "  x_1-x_2=8, \\\\\n",
        "  -x_1+3x_2=9, \\quad\n",
        " x_{1} \\ge 0,\\quad  x_{2} \\ge 0 \\right\\}.\n",
        "\\end{eqnarray*}\n",
        "\n",
        "8. Доказать, что множество планов основной задачи линейного программирования является выпуклым (если оно не пусто).\n",
        "\\item Привести к канонической форме следующую задачу линейного программирования. Определить, какие переменные являются базисными, найти начальное опорное\n",
        "решение и начальное значение целевой функции:\n",
        "\\begin{equation*}\n",
        "\\begin{array}{l} {F=6x_1+8x_2+x_3 \\to \\max} \\\\\n",
        " {\\left\\{\\begin{array}{l} {x_1+x_2+x_3\\geq3,} \\\\\n",
        "  {x_1+2x_2\\leq4} \\\\\n",
        "    {x_1 \\ge 0, x_2 \\ge 0, x_3 \\ge 0} \\end{array}\\right. } \\end{array}\n",
        "\\end{equation*}\n",
        "\n",
        "9.Привести к канонической форме следующую задачу линейного программирования. Определить, какие переменные являются базисными, найти начальное опорное\n",
        "решение и начальное значение целевой функции:\n",
        "\\begin{equation*}\n",
        "\\begin{array}{l} {F=6x_1+8x_2-x_3 \\to \\max,} \\\\\n",
        " {\\left\\{\\begin{array}{l} {12x_1+x_2+2x_3\\leq3,} \\\\\n",
        "  {x_1+2x_2\\geq4} \\\\\n",
        "    {x_1 \\ge 0, x_2 \\ge 0, x_3 \\ge 0} \\end{array}\\right. } \\end{array}\n",
        "\\end{equation*}\n",
        "\n",
        "\n",
        "\n",
        "10. Решить задачу линейного программирования симплекс-методом:\n",
        " \\begin{equation*}\\begin{array}{l} {-4x_1+2x_3\\to \\max} \\\\\n",
        " {\\left\\{\\begin{array}{l} {x_3\\leq 3} \\\\\n",
        "  {5x_1+2x_2\\leq4} \\\\\n",
        "    {x_j \\ge 0, \\overline{j=1,3}}\n",
        "    \\end{array}\\right. } \\end{array}\\end{equation*}\n",
        "\n",
        "11. Решить задачу линейного программирования симплекс-методом:\n",
        " \\begin{equation*}\\begin{array}{l} {2x_1+2x_3+2\\to \\max} \\\\\n",
        " {\\left\\{\\begin{array}{l}\n",
        "  {2x_1+x_2+x_3\\leq13} \\\\\n",
        "   {2x_1-5x_2+4x_3\\leq19}\\\\\n",
        "    {x_j \\ge 0, \\overline{j=1,3}}\n",
        "    \\end{array}\\right. } \\end{array}\\end{equation*}\n",
        "\n",
        "12. Решить задачу линейного программирования симплекс-методом:\n",
        " \\begin{equation*}\\begin{array}{l} {-3x_1+4x_3+2\\to \\max} \\\\\n",
        " {\\left\\{\\begin{array}{l}\n",
        "  {3x_1+x_2\\leq7} \\\\\n",
        "   {4x_1+2x_2+3x_3\\leq18}\\\\\n",
        "    {x_j \\ge 0, \\overline{j=1,3}}\n",
        "    \\end{array}\\right. } \\end{array}\\end{equation*}\n",
        "\n",
        "13.  Решить задачу линейного программирования симплекс-методом:\n",
        " \\begin{equation*}\\begin{array}{l} {x_1+4x_2+3x_2-2\\to \\max} \\\\\n",
        " {\\left\\{\\begin{array}{l}\n",
        "  {x_1-3x_2+2x_3\\leq4} \\\\\n",
        "   {x_1-x_2+2x_3\\leq5}\\\\\n",
        "    {x_j \\ge 0, \\overline{j=1,3}}\n",
        "    \\end{array}\\right. } \\end{array}\\end{equation*}\n",
        "\n",
        "14.  Решить задачу линейного программирования симплекс-методом:\n",
        " \\begin{equation*}\\begin{array}{l} {3x_1+2x_3-x_6\\to \\max} \\\\\n",
        " {\\left\\{\\begin{array}{l}\n",
        "  {2x_1+x_2-3x_3+6x_6=18} \\\\\n",
        "   {-3x_1+2x_3+x_4-2x_6=24}\\\\\n",
        "      {x_1+3x_3+x_5-4x_6=36}\\\\\n",
        "    {x_j \\ge 0, \\overline{j=1,6}}\n",
        "    \\end{array}\\right. } \\end{array}\\end{equation*}\n",
        "\n",
        "\n",
        "\n"
      ]
    },
    {
      "cell_type": "markdown",
      "metadata": {
        "id": "O0yMmzU59dIl"
      },
      "source": [
        "# Часть 3 Теория"
      ]
    },
    {
      "cell_type": "markdown",
      "metadata": {
        "id": "Igp9sZChNoz_"
      },
      "source": [
        "## Теоретический минимум по методам оптимизации"
      ]
    },
    {
      "cell_type": "markdown",
      "metadata": {
        "id": "fPIickrK_UJh"
      },
      "source": [
        "Необходимо ответить без подготовки не менее, чем на 4 вопроса.\n",
        "\n",
        "1.    Перечислите формы задач линейного программирования?\n",
        "2.    Какая форма задачи линейного программирования называется общей?\n",
        "3.    Какая форма задачи линейного программирования называется канонической?\n",
        "4.    Какая форма задачи линейного программирования называется стандартной?\n",
        "5.    Какая функция называется целевой для задачи линейного программирования?\n",
        "6.    Что такое план задачи линейного программирования?\n",
        "7.    Какое множество называется выпуклым?\n",
        "8.    Какая точка выпуклого множества называется угловой?\n",
        "9.    Какой план задачи линейного программирования называется опорным?\n",
        "10.   Какой план задачи линейного программирования называется невырожденным?\n",
        "11.   Может ли целевая функция задачи линейного программирования принимать максимальное значение более чем в одной вершине многогранника решений?\n",
        "12.   Могут ли ограничения в задаче линейного программирования быть строгими ($>$ или $<$)?\n",
        "13.   В каком случае необходимо применять метод искусственного базиса?\n"
      ]
    },
    {
      "cell_type": "markdown",
      "metadata": {
        "id": "ryhbmUv2Nx5Y"
      },
      "source": [
        "## Теоретический минимум python"
      ]
    },
    {
      "cell_type": "markdown",
      "metadata": {
        "id": "RdLfMZpgN5fw"
      },
      "source": [
        "1.  Каким образом можно задать ограничение $3 \\le x_3 \\le 5 $ при решении задачи линейного программирования с помощью функции linprog?\n",
        "2.  Каким образом можно задать ограничение $2x_1+ 4x_4-3 x_3+x_4 \\ge 12 $ при решении задачи линейного программирования с помощью функции linprog?\n",
        "3. Для каких целей используется параметр bounds в функции linprog?\n",
        "4. В чем разница параметров A_ub и A_eq  в функции linprog?\n",
        "5. Каким образом можно задать ограничение $5 \\le x_3 \\le +\\infty $ при решении задачи линейного программирования с помощью OR-Tools на языке python?\n",
        "6.  Каким образом можно задать ограничение $2x_1 - 4x_4-3 x_3+x_4 \\ge 12 $ при решении задачи линейного программирования с помощью OR-Tools на языке python?\n",
        "7. Как создаются переменные для задачи линейного программирования с помощью OR-Tools на языке python?\n",
        "8. В чем различие создания целочисленной и вещественной переменной в OR-Tools на языке python?\n",
        "9. Как проверить найден ли оптимальный план задачи линейного программирования в в OR-Tools на языке python?\n",
        "10. Что делает эта команда solver.NumVar(0, 6, \"x1\") в OR-Tools на языке python?\n",
        "11. Как создаются ограничения для задачи линейного программирования в OR-Tools на языке python?\n",
        "12. Как создается целевая функция задачи линейного программирования в OR-Tools на языке python?\n",
        "13. Как создаются ограничения равенства задачи линейного программирования в OR-Tools на языке python?\n",
        "14. Как создаются ограничения неравенства задачи линейного программирования в OR-Tools на языке python?\n",
        "15. Поясните, почему для разобранного примера различается матричная запись задачи при использовании linprog и OR-Tools?\n",
        "16. Назовите основные шаги при решении задачи линейного программирования с использованием OR-Tools.\n",
        "\n",
        "\n",
        "\n",
        "\n",
        "\n"
      ]
    }
  ],
  "metadata": {
    "colab": {
      "collapsed_sections": [
        "50V3RS0l9YzC"
      ],
      "provenance": []
    },
    "kernelspec": {
      "display_name": "Python 3 (ipykernel)",
      "language": "python",
      "name": "python3"
    },
    "language_info": {
      "codemirror_mode": {
        "name": "ipython",
        "version": 3
      },
      "file_extension": ".py",
      "mimetype": "text/x-python",
      "name": "python",
      "nbconvert_exporter": "python",
      "pygments_lexer": "ipython3",
      "version": "3.9.16"
    }
  },
  "nbformat": 4,
  "nbformat_minor": 0
}